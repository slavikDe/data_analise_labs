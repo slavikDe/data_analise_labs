{
  "cells": [
    {
      "cell_type": "markdown",
      "metadata": {
        "id": "YqBze15Gv0pX"
      },
      "source": [
        "\n",
        "# Оцінка та вдосконалення моделі\n"
      ]
    },
    {
      "cell_type": "markdown",
      "metadata": {
        "id": "sYSEUTRTv0pb"
      },
      "source": [
        "<h2>Мета</h2>\n",
        "\n",
        "Ознайомитись з методами оцінки та вдосконалення регресійних моделей. Після завершення цієї лабораторної роботи ви зможете:\n",
        "\n",
        "* Розділяти дані на навчальну та тестову вибірки\n",
        "* Використовувати перехресну перевірку для оцінки якості моделі\n",
        "* Обирати оптимальну складність моделі для уникнення перенавчання\n",
        "* Вдосконалювати моделі прогнозування за допомогою підбору параметрів\n"
      ]
    },
    {
      "cell_type": "markdown",
      "metadata": {
        "id": "9wMoHffev0qG"
      },
      "source": [
        "<div class=\"alert alert-danger alertdanger\" style=\"margin-top: 20px\">\n",
        "\n",
        "# <h1 id=\"task\">Завдання, що оцінюються </h1>\n",
        "\n",
        "</div>\n"
      ]
    },
    {
      "cell_type": "markdown",
      "metadata": {
        "id": "PMUbjlU5v0qG"
      },
      "source": [
        "1. Скачайте дані із файлу <a href=\"https://drive.google.com/file/d/1wSj5SKRPKOjNPP2cyqaNpxRCinKEmJkO/view?usp=drive_link\" target=\"_blank\">'clean_data2.csv'</a> (Data2.csv з виправленими помилками та заповненими пропусками). Запишіть дані у два датафрейми: предиктори (x_data) та відгуки (y_data). Випадковим чином розділіть дані на навчальні та тестові (використайте 20% загального набору в якості тестових даних).\n",
        "2. Побудуйте модель лінійної одномірної регресії для одного з предикторів, використовуючи навчальні дані. Знайдіть R^2 на навчальних та тестових даних. Чому вони різні і на який з них треба орієнтуватись при виборі моделі?\n",
        "3. Побудуйте кілька поліноміальних моделей різних ступенів для того ж предиктора. Знайдіть R^2 цих моделей на тестових даних. Яка з моделей краща? При якому ступені полінома спостерігається перенавчання?\n",
        "4. Побудуйте модель гребеневої регресії для двох найкращих предикторів. Параметр alpha повинен бути встановлений на 10. Обчисліть R^2.\n",
        "5. Виконайте пошук по сітці для параметра alpha та параметра нормалізації, а потім побудуйте модель, використавши найкращі значення параметрів."
      ]
    },
    {
      "cell_type": "markdown",
      "metadata": {
        "id": "C-mI2Jxgv0qG"
      },
      "source": [
        "<a name=\"task1\"></a>\n",
        "<div class=\"alert alert-danger alertdanger\" style=\"margin-top: 20px\">\n",
        "\n",
        "## <h2 id=\"task1\">Завдання  #1: </h2>\n",
        "\n",
        "<p>Запишіть дані у два датафрейми: предиктори (x_data) та відгуки (y_data). Випадковим чином розділіть дані на навчальні та тестові (використайте 20% загального набору в якості тестових даних).</p>\n",
        "</div>\n"
      ]
    },
    {
      "cell_type": "markdown",
      "metadata": {
        "id": "EgmcxOvZv0qG"
      },
      "source": [
        "Зчитую дані з файлу у датафрейм\n"
      ]
    },
    {
      "cell_type": "code",
      "execution_count": 2,
      "metadata": {},
      "outputs": [],
      "source": [
        "import pandas as pd\n",
        "import numpy as np\n",
        "from pathlib import Path "
      ]
    },
    {
      "cell_type": "code",
      "execution_count": null,
      "metadata": {},
      "outputs": [],
      "source": [
        "\n"
      ]
    },
    {
      "cell_type": "code",
      "execution_count": null,
      "metadata": {
        "id": "nauX8OiSv0qG"
      },
      "outputs": [],
      "source": [
        "# Напишіть ваш код нижче та натисніть Shift+Enter для виконання\n",
        "df = pd.read_csv()\n"
      ]
    },
    {
      "cell_type": "markdown",
      "metadata": {
        "id": "vb3kYiq2v0qH"
      },
      "source": [
        "Буду використовувати тільки числові дані\n"
      ]
    },
    {
      "cell_type": "code",
      "execution_count": null,
      "metadata": {
        "id": "BFcqDvk3v0qH"
      },
      "outputs": [],
      "source": [
        "# Напишіть ваш код нижче та натисніть Shift+Enter для виконання\n"
      ]
    },
    {
      "cell_type": "markdown",
      "metadata": {
        "id": "IQ3ZRG_5v0qH"
      },
      "source": [
        "Записую дані у два датафрейми: предиктори (x_data) та відгуки (y_data).\n"
      ]
    },
    {
      "cell_type": "code",
      "execution_count": null,
      "metadata": {
        "id": "S8JmDMvJv0qH"
      },
      "outputs": [],
      "source": [
        "# Напишіть ваш код нижче та натисніть Shift+Enter для виконання\n"
      ]
    },
    {
      "cell_type": "markdown",
      "metadata": {
        "id": "0YGRirrZv0qH"
      },
      "source": [
        "Випадковим чином розділяю дані на навчальні та тестові (40% загального набору в якості тестових даних).\n"
      ]
    },
    {
      "cell_type": "code",
      "execution_count": null,
      "metadata": {
        "id": "kY7v94Ifv0qH"
      },
      "outputs": [],
      "source": [
        "# Напишіть ваш код нижче та натисніть Shift+Enter для виконання\n"
      ]
    },
    {
      "cell_type": "markdown",
      "metadata": {
        "id": "4OooyQIVv0qI"
      },
      "source": [
        "<a name=\"task2\"></a>\n",
        "<div class=\"alert alert-danger alertdanger\" style=\"margin-top: 20px\">\n",
        "\n",
        "## <h2 id=\"task2\">Завдання  #2: </h2>\n",
        "\n",
        "<p>Побудуйте модель лінійної одномірної регресії для одного з предикторів, використовуючи навчальні дані. Знайдіть R^2 на навчальних та тестових даних. Чому вони різні і на який з них треба орієнтуватись при виборі моделі?</p>\n",
        "</div>\n"
      ]
    },
    {
      "cell_type": "markdown",
      "metadata": {
        "id": "mxDfra8zv0qI"
      },
      "source": [
        "<p>З попередніх робіт знаю, що хорошими показниками для 'CO2 emission' можуть бути:</p>\n",
        "<ul>\n",
        "    <li>ознака 1</li>\n",
        "    <li>ознака 2</li>\n",
        "</ul>\n",
        "При цьому одномірна модель для ознаки 1 була кращою. Тому будуватиму моделі, використовуючи саме цю ознаку як предиктор.\n",
        "\n",
        "<p>Створюю об’єкт лінійної регресії та навчаю модель</p>\n"
      ]
    },
    {
      "cell_type": "code",
      "execution_count": null,
      "metadata": {
        "id": "hnnfzgDuv0qI"
      },
      "outputs": [],
      "source": [
        "# Напишіть ваш код нижче та натисніть Shift+Enter для виконання\n"
      ]
    },
    {
      "cell_type": "markdown",
      "metadata": {
        "id": "9quFQ-MVv0qJ"
      },
      "source": [
        "Обчислюю R^2  на навчальних та тестових даних:\n"
      ]
    },
    {
      "cell_type": "code",
      "execution_count": null,
      "metadata": {
        "id": "PgsbyVIvv0qJ"
      },
      "outputs": [],
      "source": [
        "# Напишіть ваш код нижче та натисніть Shift+Enter для виконання\n"
      ]
    },
    {
      "cell_type": "markdown",
      "metadata": {
        "id": "MvXqfArlv0qK"
      },
      "source": [
        "<p>Вони різні бо ....  </p>\n",
        "<p>При виборі моделі треба орієнтуватись на ...</p>\n"
      ]
    },
    {
      "cell_type": "markdown",
      "metadata": {
        "id": "GG9SegJ0v0qK"
      },
      "source": [
        "<a name=\"task3\"></a>\n",
        "<div class=\"alert alert-danger alertdanger\" style=\"margin-top: 20px\">\n",
        "\n",
        "## <h2 id=\"task3\">Завдання  #3: </h2>\n",
        "\n",
        "<p>Побудуйте кілька поліноміальних моделей різних ступенів для того ж предиктора. Знайдіть R^2 цих моделей на тестових даних. Яка з моделей краща? При якому ступені полінома спостерігається перенавчання?</p>\n",
        "</div>\n"
      ]
    },
    {
      "cell_type": "markdown",
      "metadata": {
        "id": "iitxoq2pv0qL"
      },
      "source": [
        "Будую поліноміальну модель 2 ступеня, на тестових даних обчислюю R^2\n"
      ]
    },
    {
      "cell_type": "code",
      "execution_count": null,
      "metadata": {
        "id": "X5U4vojnv0qL"
      },
      "outputs": [],
      "source": [
        "# Напишіть ваш код нижче та натисніть Shift+Enter для виконання\n",
        "# Виконую поліноміальне перетворення 2 ступеня для ознаки '___'\n",
        "\n",
        "# Будую поліноміальну модель\n",
        "\n",
        "# На тестових даних обчислюю R^2\n"
      ]
    },
    {
      "cell_type": "markdown",
      "metadata": {
        "id": "yxWaTnJCv0qM"
      },
      "source": [
        "Будую поліноміальну модель _ ступеня, на тестових даних обчислюю R^2\n"
      ]
    },
    {
      "cell_type": "code",
      "execution_count": null,
      "metadata": {
        "id": "-eIokjjLv0qM"
      },
      "outputs": [],
      "source": [
        "# Напишіть ваш код нижче та натисніть Shift+Enter для виконання\n",
        "# Виконую поліноміальне перетворення _ ступеня для ознаки '___'\n",
        "\n",
        "# Будую поліноміальну модель\n",
        "\n",
        "# На тестових даних обчислюю R^2\n"
      ]
    },
    {
      "cell_type": "markdown",
      "metadata": {
        "id": "RCv88EEPv0qM"
      },
      "source": [
        "Будую поліноміальну модель _ ступеня, на тестових даних обчислюю R^2\n"
      ]
    },
    {
      "cell_type": "code",
      "execution_count": null,
      "metadata": {
        "id": "zFKPm70mv0qM"
      },
      "outputs": [],
      "source": [
        "# Напишіть ваш код нижче та натисніть Shift+Enter для виконання\n",
        "# Виконую поліноміальне перетворення _ ступеня для ознаки '___'\n",
        "\n",
        "# Будую поліноміальну модель\n",
        "\n",
        "# На тестових даних обчислюю R^2\n"
      ]
    },
    {
      "cell_type": "markdown",
      "metadata": {
        "id": "Gn6bNeF_v0qM"
      },
      "source": [
        "Найкращою є модель _ ступеня, бо для _ ступеня вже спостерігається перенавчання.\n"
      ]
    },
    {
      "cell_type": "markdown",
      "metadata": {
        "id": "s6zOc-8mv0qN"
      },
      "source": [
        "<a name=\"task4\"></a>\n",
        "<div class=\"alert alert-danger alertdanger\" style=\"margin-top: 20px\">\n",
        "\n",
        "## <h2 id=\"task4\">Завдання  #4: </h2>\n",
        "\n",
        "<p>Побудуйте модель гребеневої регресії для двох найкращих предикторів. Параметр alpha повинен бути встановлений на 10. Обчисліть R^2.</p>\n",
        "</div>\n"
      ]
    },
    {
      "cell_type": "markdown",
      "metadata": {
        "id": "gEFi-l1Fv0qN"
      },
      "source": [
        "Будую модель гребеневої регресії, обчислюю R^2\n"
      ]
    },
    {
      "cell_type": "code",
      "execution_count": null,
      "metadata": {
        "id": "kGFg3AR1v0qN"
      },
      "outputs": [],
      "source": [
        "# Виконую поліноміальне перетворення 2 ступеня для двох обраних ознак\n"
      ]
    },
    {
      "cell_type": "code",
      "execution_count": null,
      "metadata": {
        "id": "MGeObwU6v0qN"
      },
      "outputs": [],
      "source": [
        "# Створюю об’єкт гребеневої регресії, встановивши параметр alpha=10\n"
      ]
    },
    {
      "cell_type": "markdown",
      "metadata": {
        "id": "fEyoVhaDv0qN"
      },
      "source": [
        "<a name=\"task5\"></a>\n",
        "<div class=\"alert alert-danger alertdanger\" style=\"margin-top: 20px\">\n",
        "\n",
        "## <h2 id=\"task5\">Завдання  #5: </h2>\n",
        "\n",
        "<p>Виконайте пошук по сітці для параметра alpha та параметра нормалізації, а потім побудуйте модель, використавши найкращі значення параметрів.</p>\n",
        "</div>\n"
      ]
    },
    {
      "cell_type": "markdown",
      "metadata": {
        "id": "gg1m-61Uv0qN"
      },
      "source": [
        "Створюю словник значень параметрів:\n"
      ]
    },
    {
      "cell_type": "code",
      "execution_count": null,
      "metadata": {
        "id": "eta-pDbyv0qO"
      },
      "outputs": [],
      "source": [
        "# Напишіть ваш код нижче та натисніть Shift+Enter для виконання\n"
      ]
    },
    {
      "cell_type": "markdown",
      "metadata": {
        "id": "ihfZXOY6v0qO"
      },
      "source": [
        "Створюю об’єкт сітки пошуку параметра гребеневої регресії:\n"
      ]
    },
    {
      "cell_type": "code",
      "execution_count": null,
      "metadata": {
        "id": "izq42FsRv0qO"
      },
      "outputs": [],
      "source": [
        "# Напишіть ваш код нижче та натисніть Shift+Enter для виконання\n"
      ]
    },
    {
      "cell_type": "markdown",
      "metadata": {
        "id": "0Oq1gvFav0qO"
      },
      "source": [
        "Підбираю модель:\n"
      ]
    },
    {
      "cell_type": "code",
      "execution_count": null,
      "metadata": {
        "id": "FHReEgcGv0qO"
      },
      "outputs": [],
      "source": [
        "# Напишіть ваш код нижче та натисніть Shift+Enter для виконання\n"
      ]
    },
    {
      "cell_type": "markdown",
      "metadata": {
        "id": "nNlkTvIVv0qO"
      },
      "source": [
        "Отримую модель з найкращими параметрами:\n"
      ]
    },
    {
      "cell_type": "code",
      "execution_count": null,
      "metadata": {
        "id": "4kphB_Xpv0qP"
      },
      "outputs": [],
      "source": [
        "# Напишіть ваш код нижче та натисніть Shift+Enter для виконання\n"
      ]
    },
    {
      "cell_type": "markdown",
      "metadata": {
        "id": "t2iPVP8fv0qP"
      },
      "source": [
        "Тестую модель на тестових даних (обчислюю R^2):\n"
      ]
    },
    {
      "cell_type": "code",
      "execution_count": null,
      "metadata": {
        "id": "Mw_dOX-ov0qP"
      },
      "outputs": [],
      "source": [
        "# Напишіть ваш код нижче та натисніть Shift+Enter для виконання\n"
      ]
    },
    {
      "cell_type": "markdown",
      "metadata": {
        "id": "WsQiXs_uv0qQ"
      },
      "source": [
        "<a name=\"task6\"></a>\n",
        "<div class=\"alert alert-danger alertdanger\" style=\"margin-top: 20px\">\n",
        "\n",
        "## <h2 id=\"task6\"> Додаткове завдання: </h2>\n",
        "\n",
        "<p>Побудуйте візуалізації для оцінки якості моделей (лінійної, кращої з поліноміальних та кращої з гребеневих)</p>\n",
        "</div>\n"
      ]
    },
    {
      "cell_type": "markdown",
      "metadata": {
        "id": "eetSGyaav0qQ"
      },
      "source": [
        "Використаю метод \"predict\", щоб спрогнозувати результати, а потім скористаюсь функцією \"DistributionPlot\", щоб відобразити розподіл прогнозованих результатів для тестових даних порівняно з фактичними для тестових даних.\n"
      ]
    },
    {
      "cell_type": "code",
      "execution_count": null,
      "metadata": {
        "id": "_p5qkNAYv0qQ"
      },
      "outputs": [],
      "source": [
        "# Напишіть ваш код нижче та натисніть Shift+Enter для виконання\n"
      ]
    },
    {
      "cell_type": "markdown",
      "metadata": {
        "id": "j7RNf0hbv0qQ"
      },
      "source": [
        "<h2>Виконав студент групи ІП-24<br>В'ячеслав Денисенко</h2>\n"
      ]
    }
  ],
  "metadata": {
    "colab": {
      "provenance": [],
      "toc_visible": true
    },
    "kernelspec": {
      "display_name": "Python 3",
      "language": "python",
      "name": "python3"
    },
    "language_info": {
      "codemirror_mode": {
        "name": "ipython",
        "version": 3
      },
      "file_extension": ".py",
      "mimetype": "text/x-python",
      "name": "python",
      "nbconvert_exporter": "python",
      "pygments_lexer": "ipython3",
      "version": "3.12.2"
    }
  },
  "nbformat": 4,
  "nbformat_minor": 0
}
