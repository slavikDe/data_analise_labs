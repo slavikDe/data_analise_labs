{
  "cells": [
    {
      "cell_type": "markdown",
      "metadata": {
        "id": "JyTTtWyKwC0q"
      },
      "source": [
        "\n",
        "# Задачі кластеризації та класифікації\n"
      ]
    },
    {
      "cell_type": "markdown",
      "metadata": {
        "id": "a_vc5jcBwC0u"
      },
      "source": [
        "<h2>Мета</h2>\n",
        "\n",
        "Ознайомитись з різновидами моделей для задач кластеризації та класифікації, а також методами побудови та оцінки цих моделей. Після завершення цієї лабораторної роботи ви зможете:\n",
        "\n",
        "* Використовувати прості моделі для задач кластеризації та класифікації\n",
        "* Використовувати перехресну перевірку для оцінки якості моделі\n",
        "* Обирати оптимальну складність моделі для уникнення перенавчання\n",
        "* Вдосконалювати моделі за допомогою підбору параметрів\n",
        "\n",
        "Приблизний час виконання: **60** хвилин"
      ]
    },
    {
      "cell_type": "markdown",
      "metadata": {
        "id": "GKOv5fZOwC0v"
      },
      "source": [
        "# <h2>Зміст</h2>\n",
        "\n",
        "<div class=\"alert alert-block alert-info\" style=\"margin-top: 20px\">\n",
        "<h3>Завдання для тренування</h3>\n",
        "<ul>\n",
        "    <li><a href=\"#ref1\">Задача кластеризації </a></li>\n",
        "    <li><a href=\"#ref2\">Підбір параметрів моделі </a></li>\n",
        "    <li><a href=\"#ref3\">Задача класифікації </a></li>\n",
        "    <li><a href=\"#ref4\">Підбір параметрів моделі </a></li>\n",
        "</ul>\n",
        "\n",
        "</div>\n",
        "\n",
        "<hr>"
      ]
    },
    {
      "cell_type": "markdown",
      "metadata": {
        "id": "_67BXgE0wC0w"
      },
      "source": [
        "Імпорт бібліотек та даних:"
      ]
    },
    {
      "cell_type": "code",
      "execution_count": 1,
      "metadata": {
        "id": "VZbk82McwC0w"
      },
      "outputs": [],
      "source": [
        "import pandas as pd\n",
        "import numpy as np\n",
        "import matplotlib.pyplot as plt\n",
        "import seaborn as sns\n",
        "from sklearn.model_selection import train_test_split, cross_val_score, KFold\n",
        "from sklearn.cluster import KMeans\n",
        "from scipy.cluster.hierarchy import linkage, dendrogram\n",
        "from sklearn.metrics import mean_squared_error, r2_score, classification_report, silhouette_score, confusion_matrix\n",
        "from sklearn.neighbors import KNeighborsClassifier\n",
        "from sklearn.svm import SVC\n",
        "from sklearn import tree\n",
        "from sklearn.tree import DecisionTreeClassifier\n",
        "from sklearn.ensemble import RandomForestClassifier\n",
        "from sklearn.ensemble import ExtraTreesClassifier\n",
        "from sklearn.ensemble import AdaBoostClassifier\n",
        "from sklearn.ensemble import GradientBoostingClassifier\n"
      ]
    },
    {
      "cell_type": "code",
      "execution_count": 2,
      "metadata": {
        "id": "AJoVc31FwC0y"
      },
      "outputs": [],
      "source": [
        "# Якщо забули зберегти дані, то скористайтесь цим файлом (This dataset was hosted on IBM Cloud object)\n",
        "\n",
        "path = '../data/auto2.csv'"
      ]
    },
    {
      "cell_type": "code",
      "execution_count": 3,
      "metadata": {
        "id": "_66NlCCawC0z"
      },
      "outputs": [
        {
          "name": "stdout",
          "output_type": "stream",
          "text": [
            "<class 'pandas.core.frame.DataFrame'>\n",
            "RangeIndex: 201 entries, 0 to 200\n",
            "Data columns (total 32 columns):\n",
            " #   Column             Non-Null Count  Dtype  \n",
            "---  ------             --------------  -----  \n",
            " 0   Unnamed: 0.2       201 non-null    int64  \n",
            " 1   Unnamed: 0         201 non-null    int64  \n",
            " 2   Unnamed: 0.1       201 non-null    int64  \n",
            " 3   symboling          201 non-null    int64  \n",
            " 4   normalized-losses  201 non-null    int64  \n",
            " 5   make               201 non-null    object \n",
            " 6   aspiration         201 non-null    object \n",
            " 7   num-of-doors       201 non-null    object \n",
            " 8   body-style         201 non-null    object \n",
            " 9   drive-wheels       201 non-null    object \n",
            " 10  engine-location    201 non-null    object \n",
            " 11  wheel-base         201 non-null    float64\n",
            " 12  length             201 non-null    float64\n",
            " 13  width              201 non-null    float64\n",
            " 14  height             201 non-null    float64\n",
            " 15  curb-weight        201 non-null    int64  \n",
            " 16  engine-type        201 non-null    object \n",
            " 17  num-of-cylinders   201 non-null    object \n",
            " 18  engine-size        201 non-null    int64  \n",
            " 19  fuel-system        201 non-null    object \n",
            " 20  bore               201 non-null    float64\n",
            " 21  stroke             197 non-null    float64\n",
            " 22  compression-ratio  201 non-null    float64\n",
            " 23  horsepower         201 non-null    float64\n",
            " 24  peak-rpm           201 non-null    float64\n",
            " 25  city-mpg           201 non-null    int64  \n",
            " 26  highway-mpg        201 non-null    int64  \n",
            " 27  price              201 non-null    float64\n",
            " 28  city-L/100km       201 non-null    float64\n",
            " 29  horsepower-binned  200 non-null    object \n",
            " 30  diesel             201 non-null    int64  \n",
            " 31  gas                201 non-null    int64  \n",
            "dtypes: float64(11), int64(11), object(10)\n",
            "memory usage: 50.4+ KB\n"
          ]
        }
      ],
      "source": [
        "df = pd.read_csv(path)\n",
        "df.head()\n",
        "df.info()"
      ]
    },
    {
      "cell_type": "markdown",
      "metadata": {
        "id": "QKxzy3vMwC0z"
      },
      "source": [
        "<a name=\"ref1\"></a>\n",
        "## <h2>Задача кластеризації</h2>\n",
        "\n",
        "<p>Кластеризація використовується у випадках, коли потрібно розділити сукупність об'єктів на групи, але міток груп ми не маємо і кількість груп теж не відома.</p>"
      ]
    },
    {
      "cell_type": "markdown",
      "metadata": {
        "id": "WBHm7jxkwC00"
      },
      "source": [
        "<h3>Метод k-середніх</h3>\n",
        "    \n",
        "<p>Одним з найпоширеніших та найпростіших методів кластеризації є метод k-середніх, де k - кількість кластерів, на яку будемо групувати дані.</p>\n",
        "<p>Виділимо ознаки, по яким будемо кластеризувати дані:</p>\n"
      ]
    },
    {
      "cell_type": "code",
      "execution_count": 4,
      "metadata": {
        "id": "N17NjQ6KwC01"
      },
      "outputs": [
        {
          "data": {
            "text/html": [
              "<div>\n",
              "<style scoped>\n",
              "    .dataframe tbody tr th:only-of-type {\n",
              "        vertical-align: middle;\n",
              "    }\n",
              "\n",
              "    .dataframe tbody tr th {\n",
              "        vertical-align: top;\n",
              "    }\n",
              "\n",
              "    .dataframe thead th {\n",
              "        text-align: right;\n",
              "    }\n",
              "</style>\n",
              "<table border=\"1\" class=\"dataframe\">\n",
              "  <thead>\n",
              "    <tr style=\"text-align: right;\">\n",
              "      <th></th>\n",
              "      <th>price</th>\n",
              "      <th>city-mpg</th>\n",
              "    </tr>\n",
              "  </thead>\n",
              "  <tbody>\n",
              "    <tr>\n",
              "      <th>0</th>\n",
              "      <td>13495.0</td>\n",
              "      <td>21</td>\n",
              "    </tr>\n",
              "    <tr>\n",
              "      <th>1</th>\n",
              "      <td>16500.0</td>\n",
              "      <td>21</td>\n",
              "    </tr>\n",
              "    <tr>\n",
              "      <th>2</th>\n",
              "      <td>16500.0</td>\n",
              "      <td>19</td>\n",
              "    </tr>\n",
              "    <tr>\n",
              "      <th>3</th>\n",
              "      <td>13950.0</td>\n",
              "      <td>24</td>\n",
              "    </tr>\n",
              "    <tr>\n",
              "      <th>4</th>\n",
              "      <td>17450.0</td>\n",
              "      <td>18</td>\n",
              "    </tr>\n",
              "    <tr>\n",
              "      <th>...</th>\n",
              "      <td>...</td>\n",
              "      <td>...</td>\n",
              "    </tr>\n",
              "    <tr>\n",
              "      <th>196</th>\n",
              "      <td>16845.0</td>\n",
              "      <td>23</td>\n",
              "    </tr>\n",
              "    <tr>\n",
              "      <th>197</th>\n",
              "      <td>19045.0</td>\n",
              "      <td>19</td>\n",
              "    </tr>\n",
              "    <tr>\n",
              "      <th>198</th>\n",
              "      <td>21485.0</td>\n",
              "      <td>18</td>\n",
              "    </tr>\n",
              "    <tr>\n",
              "      <th>199</th>\n",
              "      <td>22470.0</td>\n",
              "      <td>26</td>\n",
              "    </tr>\n",
              "    <tr>\n",
              "      <th>200</th>\n",
              "      <td>22625.0</td>\n",
              "      <td>19</td>\n",
              "    </tr>\n",
              "  </tbody>\n",
              "</table>\n",
              "<p>201 rows × 2 columns</p>\n",
              "</div>"
            ],
            "text/plain": [
              "       price  city-mpg\n",
              "0    13495.0        21\n",
              "1    16500.0        21\n",
              "2    16500.0        19\n",
              "3    13950.0        24\n",
              "4    17450.0        18\n",
              "..       ...       ...\n",
              "196  16845.0        23\n",
              "197  19045.0        19\n",
              "198  21485.0        18\n",
              "199  22470.0        26\n",
              "200  22625.0        19\n",
              "\n",
              "[201 rows x 2 columns]"
            ]
          },
          "execution_count": 4,
          "metadata": {},
          "output_type": "execute_result"
        }
      ],
      "source": [
        "features = df[['price', 'city-mpg']]\n",
        "features"
      ]
    },
    {
      "cell_type": "markdown",
      "metadata": {
        "id": "nBVjm2PEwC01"
      },
      "source": [
        "<p>Ініціалізуємо алгоритм k середніх (кількість кластерів - 2 - задана навмання):</p>\n"
      ]
    },
    {
      "cell_type": "code",
      "execution_count": 5,
      "metadata": {
        "id": "O3948Im7wC01"
      },
      "outputs": [
        {
          "data": {
            "text/html": [
              "<style>#sk-container-id-1 {\n",
              "  /* Definition of color scheme common for light and dark mode */\n",
              "  --sklearn-color-text: black;\n",
              "  --sklearn-color-line: gray;\n",
              "  /* Definition of color scheme for unfitted estimators */\n",
              "  --sklearn-color-unfitted-level-0: #fff5e6;\n",
              "  --sklearn-color-unfitted-level-1: #f6e4d2;\n",
              "  --sklearn-color-unfitted-level-2: #ffe0b3;\n",
              "  --sklearn-color-unfitted-level-3: chocolate;\n",
              "  /* Definition of color scheme for fitted estimators */\n",
              "  --sklearn-color-fitted-level-0: #f0f8ff;\n",
              "  --sklearn-color-fitted-level-1: #d4ebff;\n",
              "  --sklearn-color-fitted-level-2: #b3dbfd;\n",
              "  --sklearn-color-fitted-level-3: cornflowerblue;\n",
              "\n",
              "  /* Specific color for light theme */\n",
              "  --sklearn-color-text-on-default-background: var(--sg-text-color, var(--theme-code-foreground, var(--jp-content-font-color1, black)));\n",
              "  --sklearn-color-background: var(--sg-background-color, var(--theme-background, var(--jp-layout-color0, white)));\n",
              "  --sklearn-color-border-box: var(--sg-text-color, var(--theme-code-foreground, var(--jp-content-font-color1, black)));\n",
              "  --sklearn-color-icon: #696969;\n",
              "\n",
              "  @media (prefers-color-scheme: dark) {\n",
              "    /* Redefinition of color scheme for dark theme */\n",
              "    --sklearn-color-text-on-default-background: var(--sg-text-color, var(--theme-code-foreground, var(--jp-content-font-color1, white)));\n",
              "    --sklearn-color-background: var(--sg-background-color, var(--theme-background, var(--jp-layout-color0, #111)));\n",
              "    --sklearn-color-border-box: var(--sg-text-color, var(--theme-code-foreground, var(--jp-content-font-color1, white)));\n",
              "    --sklearn-color-icon: #878787;\n",
              "  }\n",
              "}\n",
              "\n",
              "#sk-container-id-1 {\n",
              "  color: var(--sklearn-color-text);\n",
              "}\n",
              "\n",
              "#sk-container-id-1 pre {\n",
              "  padding: 0;\n",
              "}\n",
              "\n",
              "#sk-container-id-1 input.sk-hidden--visually {\n",
              "  border: 0;\n",
              "  clip: rect(1px 1px 1px 1px);\n",
              "  clip: rect(1px, 1px, 1px, 1px);\n",
              "  height: 1px;\n",
              "  margin: -1px;\n",
              "  overflow: hidden;\n",
              "  padding: 0;\n",
              "  position: absolute;\n",
              "  width: 1px;\n",
              "}\n",
              "\n",
              "#sk-container-id-1 div.sk-dashed-wrapped {\n",
              "  border: 1px dashed var(--sklearn-color-line);\n",
              "  margin: 0 0.4em 0.5em 0.4em;\n",
              "  box-sizing: border-box;\n",
              "  padding-bottom: 0.4em;\n",
              "  background-color: var(--sklearn-color-background);\n",
              "}\n",
              "\n",
              "#sk-container-id-1 div.sk-container {\n",
              "  /* jupyter's `normalize.less` sets `[hidden] { display: none; }`\n",
              "     but bootstrap.min.css set `[hidden] { display: none !important; }`\n",
              "     so we also need the `!important` here to be able to override the\n",
              "     default hidden behavior on the sphinx rendered scikit-learn.org.\n",
              "     See: https://github.com/scikit-learn/scikit-learn/issues/21755 */\n",
              "  display: inline-block !important;\n",
              "  position: relative;\n",
              "}\n",
              "\n",
              "#sk-container-id-1 div.sk-text-repr-fallback {\n",
              "  display: none;\n",
              "}\n",
              "\n",
              "div.sk-parallel-item,\n",
              "div.sk-serial,\n",
              "div.sk-item {\n",
              "  /* draw centered vertical line to link estimators */\n",
              "  background-image: linear-gradient(var(--sklearn-color-text-on-default-background), var(--sklearn-color-text-on-default-background));\n",
              "  background-size: 2px 100%;\n",
              "  background-repeat: no-repeat;\n",
              "  background-position: center center;\n",
              "}\n",
              "\n",
              "/* Parallel-specific style estimator block */\n",
              "\n",
              "#sk-container-id-1 div.sk-parallel-item::after {\n",
              "  content: \"\";\n",
              "  width: 100%;\n",
              "  border-bottom: 2px solid var(--sklearn-color-text-on-default-background);\n",
              "  flex-grow: 1;\n",
              "}\n",
              "\n",
              "#sk-container-id-1 div.sk-parallel {\n",
              "  display: flex;\n",
              "  align-items: stretch;\n",
              "  justify-content: center;\n",
              "  background-color: var(--sklearn-color-background);\n",
              "  position: relative;\n",
              "}\n",
              "\n",
              "#sk-container-id-1 div.sk-parallel-item {\n",
              "  display: flex;\n",
              "  flex-direction: column;\n",
              "}\n",
              "\n",
              "#sk-container-id-1 div.sk-parallel-item:first-child::after {\n",
              "  align-self: flex-end;\n",
              "  width: 50%;\n",
              "}\n",
              "\n",
              "#sk-container-id-1 div.sk-parallel-item:last-child::after {\n",
              "  align-self: flex-start;\n",
              "  width: 50%;\n",
              "}\n",
              "\n",
              "#sk-container-id-1 div.sk-parallel-item:only-child::after {\n",
              "  width: 0;\n",
              "}\n",
              "\n",
              "/* Serial-specific style estimator block */\n",
              "\n",
              "#sk-container-id-1 div.sk-serial {\n",
              "  display: flex;\n",
              "  flex-direction: column;\n",
              "  align-items: center;\n",
              "  background-color: var(--sklearn-color-background);\n",
              "  padding-right: 1em;\n",
              "  padding-left: 1em;\n",
              "}\n",
              "\n",
              "\n",
              "/* Toggleable style: style used for estimator/Pipeline/ColumnTransformer box that is\n",
              "clickable and can be expanded/collapsed.\n",
              "- Pipeline and ColumnTransformer use this feature and define the default style\n",
              "- Estimators will overwrite some part of the style using the `sk-estimator` class\n",
              "*/\n",
              "\n",
              "/* Pipeline and ColumnTransformer style (default) */\n",
              "\n",
              "#sk-container-id-1 div.sk-toggleable {\n",
              "  /* Default theme specific background. It is overwritten whether we have a\n",
              "  specific estimator or a Pipeline/ColumnTransformer */\n",
              "  background-color: var(--sklearn-color-background);\n",
              "}\n",
              "\n",
              "/* Toggleable label */\n",
              "#sk-container-id-1 label.sk-toggleable__label {\n",
              "  cursor: pointer;\n",
              "  display: block;\n",
              "  width: 100%;\n",
              "  margin-bottom: 0;\n",
              "  padding: 0.5em;\n",
              "  box-sizing: border-box;\n",
              "  text-align: center;\n",
              "}\n",
              "\n",
              "#sk-container-id-1 label.sk-toggleable__label-arrow:before {\n",
              "  /* Arrow on the left of the label */\n",
              "  content: \"▸\";\n",
              "  float: left;\n",
              "  margin-right: 0.25em;\n",
              "  color: var(--sklearn-color-icon);\n",
              "}\n",
              "\n",
              "#sk-container-id-1 label.sk-toggleable__label-arrow:hover:before {\n",
              "  color: var(--sklearn-color-text);\n",
              "}\n",
              "\n",
              "/* Toggleable content - dropdown */\n",
              "\n",
              "#sk-container-id-1 div.sk-toggleable__content {\n",
              "  max-height: 0;\n",
              "  max-width: 0;\n",
              "  overflow: hidden;\n",
              "  text-align: left;\n",
              "  /* unfitted */\n",
              "  background-color: var(--sklearn-color-unfitted-level-0);\n",
              "}\n",
              "\n",
              "#sk-container-id-1 div.sk-toggleable__content.fitted {\n",
              "  /* fitted */\n",
              "  background-color: var(--sklearn-color-fitted-level-0);\n",
              "}\n",
              "\n",
              "#sk-container-id-1 div.sk-toggleable__content pre {\n",
              "  margin: 0.2em;\n",
              "  border-radius: 0.25em;\n",
              "  color: var(--sklearn-color-text);\n",
              "  /* unfitted */\n",
              "  background-color: var(--sklearn-color-unfitted-level-0);\n",
              "}\n",
              "\n",
              "#sk-container-id-1 div.sk-toggleable__content.fitted pre {\n",
              "  /* unfitted */\n",
              "  background-color: var(--sklearn-color-fitted-level-0);\n",
              "}\n",
              "\n",
              "#sk-container-id-1 input.sk-toggleable__control:checked~div.sk-toggleable__content {\n",
              "  /* Expand drop-down */\n",
              "  max-height: 200px;\n",
              "  max-width: 100%;\n",
              "  overflow: auto;\n",
              "}\n",
              "\n",
              "#sk-container-id-1 input.sk-toggleable__control:checked~label.sk-toggleable__label-arrow:before {\n",
              "  content: \"▾\";\n",
              "}\n",
              "\n",
              "/* Pipeline/ColumnTransformer-specific style */\n",
              "\n",
              "#sk-container-id-1 div.sk-label input.sk-toggleable__control:checked~label.sk-toggleable__label {\n",
              "  color: var(--sklearn-color-text);\n",
              "  background-color: var(--sklearn-color-unfitted-level-2);\n",
              "}\n",
              "\n",
              "#sk-container-id-1 div.sk-label.fitted input.sk-toggleable__control:checked~label.sk-toggleable__label {\n",
              "  background-color: var(--sklearn-color-fitted-level-2);\n",
              "}\n",
              "\n",
              "/* Estimator-specific style */\n",
              "\n",
              "/* Colorize estimator box */\n",
              "#sk-container-id-1 div.sk-estimator input.sk-toggleable__control:checked~label.sk-toggleable__label {\n",
              "  /* unfitted */\n",
              "  background-color: var(--sklearn-color-unfitted-level-2);\n",
              "}\n",
              "\n",
              "#sk-container-id-1 div.sk-estimator.fitted input.sk-toggleable__control:checked~label.sk-toggleable__label {\n",
              "  /* fitted */\n",
              "  background-color: var(--sklearn-color-fitted-level-2);\n",
              "}\n",
              "\n",
              "#sk-container-id-1 div.sk-label label.sk-toggleable__label,\n",
              "#sk-container-id-1 div.sk-label label {\n",
              "  /* The background is the default theme color */\n",
              "  color: var(--sklearn-color-text-on-default-background);\n",
              "}\n",
              "\n",
              "/* On hover, darken the color of the background */\n",
              "#sk-container-id-1 div.sk-label:hover label.sk-toggleable__label {\n",
              "  color: var(--sklearn-color-text);\n",
              "  background-color: var(--sklearn-color-unfitted-level-2);\n",
              "}\n",
              "\n",
              "/* Label box, darken color on hover, fitted */\n",
              "#sk-container-id-1 div.sk-label.fitted:hover label.sk-toggleable__label.fitted {\n",
              "  color: var(--sklearn-color-text);\n",
              "  background-color: var(--sklearn-color-fitted-level-2);\n",
              "}\n",
              "\n",
              "/* Estimator label */\n",
              "\n",
              "#sk-container-id-1 div.sk-label label {\n",
              "  font-family: monospace;\n",
              "  font-weight: bold;\n",
              "  display: inline-block;\n",
              "  line-height: 1.2em;\n",
              "}\n",
              "\n",
              "#sk-container-id-1 div.sk-label-container {\n",
              "  text-align: center;\n",
              "}\n",
              "\n",
              "/* Estimator-specific */\n",
              "#sk-container-id-1 div.sk-estimator {\n",
              "  font-family: monospace;\n",
              "  border: 1px dotted var(--sklearn-color-border-box);\n",
              "  border-radius: 0.25em;\n",
              "  box-sizing: border-box;\n",
              "  margin-bottom: 0.5em;\n",
              "  /* unfitted */\n",
              "  background-color: var(--sklearn-color-unfitted-level-0);\n",
              "}\n",
              "\n",
              "#sk-container-id-1 div.sk-estimator.fitted {\n",
              "  /* fitted */\n",
              "  background-color: var(--sklearn-color-fitted-level-0);\n",
              "}\n",
              "\n",
              "/* on hover */\n",
              "#sk-container-id-1 div.sk-estimator:hover {\n",
              "  /* unfitted */\n",
              "  background-color: var(--sklearn-color-unfitted-level-2);\n",
              "}\n",
              "\n",
              "#sk-container-id-1 div.sk-estimator.fitted:hover {\n",
              "  /* fitted */\n",
              "  background-color: var(--sklearn-color-fitted-level-2);\n",
              "}\n",
              "\n",
              "/* Specification for estimator info (e.g. \"i\" and \"?\") */\n",
              "\n",
              "/* Common style for \"i\" and \"?\" */\n",
              "\n",
              ".sk-estimator-doc-link,\n",
              "a:link.sk-estimator-doc-link,\n",
              "a:visited.sk-estimator-doc-link {\n",
              "  float: right;\n",
              "  font-size: smaller;\n",
              "  line-height: 1em;\n",
              "  font-family: monospace;\n",
              "  background-color: var(--sklearn-color-background);\n",
              "  border-radius: 1em;\n",
              "  height: 1em;\n",
              "  width: 1em;\n",
              "  text-decoration: none !important;\n",
              "  margin-left: 1ex;\n",
              "  /* unfitted */\n",
              "  border: var(--sklearn-color-unfitted-level-1) 1pt solid;\n",
              "  color: var(--sklearn-color-unfitted-level-1);\n",
              "}\n",
              "\n",
              ".sk-estimator-doc-link.fitted,\n",
              "a:link.sk-estimator-doc-link.fitted,\n",
              "a:visited.sk-estimator-doc-link.fitted {\n",
              "  /* fitted */\n",
              "  border: var(--sklearn-color-fitted-level-1) 1pt solid;\n",
              "  color: var(--sklearn-color-fitted-level-1);\n",
              "}\n",
              "\n",
              "/* On hover */\n",
              "div.sk-estimator:hover .sk-estimator-doc-link:hover,\n",
              ".sk-estimator-doc-link:hover,\n",
              "div.sk-label-container:hover .sk-estimator-doc-link:hover,\n",
              ".sk-estimator-doc-link:hover {\n",
              "  /* unfitted */\n",
              "  background-color: var(--sklearn-color-unfitted-level-3);\n",
              "  color: var(--sklearn-color-background);\n",
              "  text-decoration: none;\n",
              "}\n",
              "\n",
              "div.sk-estimator.fitted:hover .sk-estimator-doc-link.fitted:hover,\n",
              ".sk-estimator-doc-link.fitted:hover,\n",
              "div.sk-label-container:hover .sk-estimator-doc-link.fitted:hover,\n",
              ".sk-estimator-doc-link.fitted:hover {\n",
              "  /* fitted */\n",
              "  background-color: var(--sklearn-color-fitted-level-3);\n",
              "  color: var(--sklearn-color-background);\n",
              "  text-decoration: none;\n",
              "}\n",
              "\n",
              "/* Span, style for the box shown on hovering the info icon */\n",
              ".sk-estimator-doc-link span {\n",
              "  display: none;\n",
              "  z-index: 9999;\n",
              "  position: relative;\n",
              "  font-weight: normal;\n",
              "  right: .2ex;\n",
              "  padding: .5ex;\n",
              "  margin: .5ex;\n",
              "  width: min-content;\n",
              "  min-width: 20ex;\n",
              "  max-width: 50ex;\n",
              "  color: var(--sklearn-color-text);\n",
              "  box-shadow: 2pt 2pt 4pt #999;\n",
              "  /* unfitted */\n",
              "  background: var(--sklearn-color-unfitted-level-0);\n",
              "  border: .5pt solid var(--sklearn-color-unfitted-level-3);\n",
              "}\n",
              "\n",
              ".sk-estimator-doc-link.fitted span {\n",
              "  /* fitted */\n",
              "  background: var(--sklearn-color-fitted-level-0);\n",
              "  border: var(--sklearn-color-fitted-level-3);\n",
              "}\n",
              "\n",
              ".sk-estimator-doc-link:hover span {\n",
              "  display: block;\n",
              "}\n",
              "\n",
              "/* \"?\"-specific style due to the `<a>` HTML tag */\n",
              "\n",
              "#sk-container-id-1 a.estimator_doc_link {\n",
              "  float: right;\n",
              "  font-size: 1rem;\n",
              "  line-height: 1em;\n",
              "  font-family: monospace;\n",
              "  background-color: var(--sklearn-color-background);\n",
              "  border-radius: 1rem;\n",
              "  height: 1rem;\n",
              "  width: 1rem;\n",
              "  text-decoration: none;\n",
              "  /* unfitted */\n",
              "  color: var(--sklearn-color-unfitted-level-1);\n",
              "  border: var(--sklearn-color-unfitted-level-1) 1pt solid;\n",
              "}\n",
              "\n",
              "#sk-container-id-1 a.estimator_doc_link.fitted {\n",
              "  /* fitted */\n",
              "  border: var(--sklearn-color-fitted-level-1) 1pt solid;\n",
              "  color: var(--sklearn-color-fitted-level-1);\n",
              "}\n",
              "\n",
              "/* On hover */\n",
              "#sk-container-id-1 a.estimator_doc_link:hover {\n",
              "  /* unfitted */\n",
              "  background-color: var(--sklearn-color-unfitted-level-3);\n",
              "  color: var(--sklearn-color-background);\n",
              "  text-decoration: none;\n",
              "}\n",
              "\n",
              "#sk-container-id-1 a.estimator_doc_link.fitted:hover {\n",
              "  /* fitted */\n",
              "  background-color: var(--sklearn-color-fitted-level-3);\n",
              "}\n",
              "</style><div id=\"sk-container-id-1\" class=\"sk-top-container\"><div class=\"sk-text-repr-fallback\"><pre>KMeans(init=&#x27;random&#x27;, n_clusters=2, n_init=10)</pre><b>In a Jupyter environment, please rerun this cell to show the HTML representation or trust the notebook. <br />On GitHub, the HTML representation is unable to render, please try loading this page with nbviewer.org.</b></div><div class=\"sk-container\" hidden><div class=\"sk-item\"><div class=\"sk-estimator fitted sk-toggleable\"><input class=\"sk-toggleable__control sk-hidden--visually\" id=\"sk-estimator-id-1\" type=\"checkbox\" checked><label for=\"sk-estimator-id-1\" class=\"sk-toggleable__label fitted sk-toggleable__label-arrow fitted\">&nbsp;&nbsp;KMeans<a class=\"sk-estimator-doc-link fitted\" rel=\"noreferrer\" target=\"_blank\" href=\"https://scikit-learn.org/1.4/modules/generated/sklearn.cluster.KMeans.html\">?<span>Documentation for KMeans</span></a><span class=\"sk-estimator-doc-link fitted\">i<span>Fitted</span></span></label><div class=\"sk-toggleable__content fitted\"><pre>KMeans(init=&#x27;random&#x27;, n_clusters=2, n_init=10)</pre></div> </div></div></div></div>"
            ],
            "text/plain": [
              "KMeans(init='random', n_clusters=2, n_init=10)"
            ]
          },
          "execution_count": 5,
          "metadata": {},
          "output_type": "execute_result"
        }
      ],
      "source": [
        "kmeans1 = KMeans(\n",
        "    init='random',\n",
        "    n_clusters=2,\n",
        "    n_init=10,\n",
        "    max_iter=300\n",
        ")\n",
        "\n",
        "kmeans1.fit(features)"
      ]
    },
    {
      "cell_type": "markdown",
      "metadata": {
        "id": "1k5llMs2wC01"
      },
      "source": [
        "<p>Отримані центри кластерів:</p>\n"
      ]
    },
    {
      "cell_type": "code",
      "execution_count": 6,
      "metadata": {
        "id": "MfoWQA4DwC02",
        "scrolled": true
      },
      "outputs": [
        {
          "data": {
            "text/plain": [
              "array([[1.07386648e+04, 2.61988636e+01],\n",
              "       [3.05851200e+04, 1.80000000e+01]])"
            ]
          },
          "execution_count": 6,
          "metadata": {},
          "output_type": "execute_result"
        }
      ],
      "source": [
        "kmeans1.cluster_centers_"
      ]
    },
    {
      "cell_type": "markdown",
      "metadata": {
        "id": "5oJvEpGcwC02"
      },
      "source": [
        "<p>Масив із номерами кластерів для кожного рядка даних:</p>\n"
      ]
    },
    {
      "cell_type": "code",
      "execution_count": 7,
      "metadata": {
        "id": "7C3_1Ss7wC02",
        "scrolled": false
      },
      "outputs": [
        {
          "data": {
            "text/plain": [
              "array([0, 0, 0, 0, 0, 0, 0, 0, 1, 0, 0, 1, 1, 1, 1, 1, 1, 0, 0, 0, 0, 0,\n",
              "       0, 0, 0, 0, 0, 0, 0, 0, 0, 0, 0, 0, 0, 0, 0, 0, 0, 0, 0, 0, 0, 0,\n",
              "       1, 1, 1, 0, 0, 0, 0, 0, 0, 0, 0, 0, 0, 0, 0, 0, 0, 0, 0, 0, 1, 1,\n",
              "       1, 1, 1, 1, 1, 1, 0, 0, 0, 0, 0, 0, 0, 0, 0, 0, 0, 0, 0, 0, 0, 0,\n",
              "       0, 0, 0, 0, 0, 0, 0, 0, 0, 0, 0, 0, 0, 0, 0, 0, 0, 0, 0, 0, 0, 0,\n",
              "       0, 0, 0, 0, 0, 0, 0, 0, 0, 0, 0, 0, 1, 1, 1, 1, 0, 0, 0, 0, 0, 0,\n",
              "       0, 0, 0, 0, 0, 0, 0, 0, 0, 0, 0, 0, 0, 0, 0, 0, 0, 0, 0, 0, 0, 0,\n",
              "       0, 0, 0, 0, 0, 0, 0, 0, 0, 0, 0, 0, 0, 0, 0, 0, 0, 0, 0, 0, 0, 0,\n",
              "       0, 0, 0, 0, 0, 0, 0, 0, 0, 0, 0, 0, 0, 0, 0, 0, 0, 0, 0, 0, 0, 0,\n",
              "       1, 1, 1])"
            ]
          },
          "execution_count": 7,
          "metadata": {},
          "output_type": "execute_result"
        }
      ],
      "source": [
        "kmeans1.labels_"
      ]
    },
    {
      "cell_type": "markdown",
      "metadata": {
        "id": "NWiLj8S5wC02"
      },
      "source": [
        "<p>Візуалізуємо отримані кластери:</p>\n"
      ]
    },
    {
      "cell_type": "code",
      "execution_count": 8,
      "metadata": {
        "id": "c367wTAKwC03",
        "scrolled": true
      },
      "outputs": [
        {
          "data": {
            "image/png": "[encoded data removed]",
            "text/plain": [
              "<Figure size 640x480 with 1 Axes>"
            ]
          },
          "metadata": {},
          "output_type": "display_data"
        }
      ],
      "source": [
        "plt.xlabel('city-mpg')\n",
        "plt.ylabel('price')\n",
        "plt.scatter(df[['city-mpg']], df[['price']], c=kmeans1.labels_)\n",
        "plt.show()"
      ]
    },
    {
      "cell_type": "markdown",
      "metadata": {
        "id": "Q99hvst_wC03"
      },
      "source": [
        "<div class=\"alert alert-success alertsuccess\" style=\"margin-top: 20px\">\n",
        "<h2> Завдання  #1:</h2>\n",
        "\n",
        "<p>Виконайте кластеризацію по тим же ознакам, задавши більшу кількість кластерів (3-5).</p>\n",
        "</div>\n"
      ]
    },
    {
      "cell_type": "code",
      "execution_count": 9,
      "metadata": {
        "id": "R337ak9QwC03"
      },
      "outputs": [
        {
          "data": {
            "text/plain": [
              "array([[1.19766122e+04, 2.31836735e+01],\n",
              "       [1.82912000e+04, 2.05555556e+01],\n",
              "       [7.52430769e+03, 3.00329670e+01],\n",
              "       [3.49976875e+04, 1.66875000e+01]])"
            ]
          },
          "execution_count": 9,
          "metadata": {},
          "output_type": "execute_result"
        }
      ],
      "source": [
        "# Напишіть ваш код нижче та натисніть Shift+Enter для виконання\n",
        "kmeans2 = KMeans(\n",
        "    init='random',\n",
        "    n_clusters=4,\n",
        "    n_init=10,\n",
        "    max_iter=300\n",
        ")\n",
        "\n",
        "kmeans2.fit(features)\n",
        "kmeans2.cluster_centers_"
      ]
    },
    {
      "cell_type": "markdown",
      "metadata": {
        "id": "9uhiHNJmwC03"
      },
      "source": [
        "<details><summary>Натисніть тут, щоб побачити підказку</summary>\n",
        "\n",
        "```python\n",
        "kmeans2 = KMeans(\n",
        "    init='random',\n",
        "    n_clusters=3,\n",
        "    n_init=10,\n",
        "    max_iter=300\n",
        ")\n",
        "\n",
        "kmeans2.fit(features)\n",
        "kmeans2.cluster_centers_\n",
        "```\n",
        "\n",
        "</details>"
      ]
    },
    {
      "cell_type": "markdown",
      "metadata": {
        "id": "lhSBxUsZwC04"
      },
      "source": [
        "<div class=\"alert alert-success alertsuccess\" style=\"margin-top: 20px\">\n",
        "<h2> Завдання  #2:</h2>\n",
        "\n",
        "<p>Візуалізуйте отримані кластери.</p>\n",
        "</div>\n"
      ]
    },
    {
      "cell_type": "code",
      "execution_count": 10,
      "metadata": {
        "id": "vFmxsQ2qwC04"
      },
      "outputs": [
        {
          "data": {
            "image/png": "[encoded data removed]",
            "text/plain": [
              "<Figure size 640x480 with 1 Axes>"
            ]
          },
          "metadata": {},
          "output_type": "display_data"
        }
      ],
      "source": [
        "plt.xlabel('city-mpg')\n",
        "plt.ylabel('price')\n",
        "plt.scatter(df[['city-mpg']], df[['price']], c=kmeans2.labels_)\n",
        "plt.show()"
      ]
    },
    {
      "cell_type": "markdown",
      "metadata": {
        "id": "gjI6iGCGwC04"
      },
      "source": [
        "<details><summary>Натисніть тут, щоб побачити підказку</summary>\n",
        "\n",
        "```python\n",
        "plt.xlabel('city-mpg')\n",
        "plt.ylabel('price')\n",
        "plt.scatter(df[['city-mpg']], df[['price']], c=kmeans2.labels_)\n",
        "plt.show()\n",
        "```\n",
        "\n",
        "</details>\n"
      ]
    },
    {
      "cell_type": "markdown",
      "metadata": {
        "id": "SnytUwvGwC05"
      },
      "source": [
        "<div class=\"alert alert-success alertsuccess\" style=\"margin-top: 20px\">\n",
        "<h2> Завдання  #3:</h2>\n",
        "\n",
        "<p>Виконайте кластеризацію по ознакам 'price', 'horsepower', 'city-mpg', кількість кластерів 3.</p>\n",
        "</div>\n"
      ]
    },
    {
      "cell_type": "code",
      "execution_count": 11,
      "metadata": {
        "id": "AGFtFRQqwC05"
      },
      "outputs": [
        {
          "data": {
            "text/plain": [
              "array([[3.49976875e+04, 1.76750000e+02, 1.66875000e+01],\n",
              "       [1.69716984e+04, 1.25936508e+02, 2.08253968e+01],\n",
              "       [8.40535246e+03, 8.21517403e+01, 2.85409836e+01]])"
            ]
          },
          "execution_count": 11,
          "metadata": {},
          "output_type": "execute_result"
        }
      ],
      "source": [
        "# Напишіть ваш код нижче та натисніть Shift+Enter для виконання\n",
        "kmeans2 = KMeans(\n",
        "    init='random',\n",
        "    n_clusters=3,\n",
        "    n_init=10,\n",
        "    max_iter=300\n",
        ")\n",
        "\n",
        "kmeans2.fit(df[['price','horsepower', 'city-mpg']])\n",
        "kmeans2.cluster_centers_"
      ]
    },
    {
      "cell_type": "markdown",
      "metadata": {
        "id": "3LNmIW8twC05"
      },
      "source": [
        "<details><summary>Натисніть тут, щоб побачити підказку</summary>\n",
        "\n",
        "```python\n",
        "kmeans3 = KMeans(\n",
        "    init='random',\n",
        "    n_clusters=3,\n",
        "    n_init=10,\n",
        "    max_iter=300\n",
        ")\n",
        "\n",
        "kmeans3.fit(df[['price', 'horsepower', 'city-mpg']])\n",
        "kmeans3.cluster_centers_\n",
        "```\n",
        "\n",
        "</details>\n"
      ]
    },
    {
      "cell_type": "markdown",
      "metadata": {
        "id": "S3sHmHRrwC05"
      },
      "source": [
        "<h3>Ієрархічна кластеризація</h3>\n",
        "    \n",
        "<p>Ієрархічна кластеризація починає роботу з того, що кожному екземпляру даних зіставляється власний кластер. Потім два найближчих кластери об'єднуються в один і так далі, доки не буде утворено один загальний кластер.\n",
        "\n",
        "Результат ієрархічної кластеризації може бути представлений за допомогою дендрограми.</p>\n",
        "<p>Виділимо ознаки, по яким будемо кластеризувати дані:</p>\n"
      ]
    },
    {
      "cell_type": "code",
      "execution_count": 12,
      "metadata": {
        "id": "d9GZ-vhjwC05",
        "scrolled": true
      },
      "outputs": [],
      "source": [
        "cars_df = df[['price', 'make', 'horsepower', 'city-mpg']]"
      ]
    },
    {
      "cell_type": "markdown",
      "metadata": {
        "id": "w6lBFwYpwC05"
      },
      "source": [
        "Виключаємо інформацію про виробника ('make'), зберігаємо для подальшого використання в якості міток листків\n"
      ]
    },
    {
      "cell_type": "code",
      "execution_count": 13,
      "metadata": {
        "id": "soePjXIFwC06",
        "scrolled": true
      },
      "outputs": [],
      "source": [
        "varieties = list(cars_df.pop('make'))"
      ]
    },
    {
      "cell_type": "markdown",
      "metadata": {
        "id": "2UHqOIGwwC06"
      },
      "source": [
        "Отримуємо дані з датафрейму як масив NumPy\n"
      ]
    },
    {
      "cell_type": "code",
      "execution_count": 14,
      "metadata": {
        "id": "sDUgQyRnwC06",
        "scrolled": true
      },
      "outputs": [],
      "source": [
        "samples = cars_df.values"
      ]
    },
    {
      "cell_type": "markdown",
      "metadata": {
        "id": "-GJ0etDlwC06"
      },
      "source": [
        "Реалізуємо ієрархічну кластеризацію за допомогою функції <code>linkage()</code>"
      ]
    },
    {
      "cell_type": "code",
      "execution_count": 15,
      "metadata": {
        "id": "w4MV9rBBwC06",
        "scrolled": true
      },
      "outputs": [],
      "source": [
        "mergings = linkage(samples, method='complete')"
      ]
    },
    {
      "cell_type": "markdown",
      "metadata": {
        "id": "MDklTXebwC06"
      },
      "source": [
        "Будуємо дендрограму, вказавши зручні для відображення параметри\n"
      ]
    },
    {
      "cell_type": "code",
      "execution_count": 16,
      "metadata": {
        "id": "UqcHcNgbwC06",
        "scrolled": false
      },
      "outputs": [
        {
          "data": {
            "image/png": "[encoded data removed]",
            "text/plain": [
              "<Figure size 640x480 with 1 Axes>"
            ]
          },
          "metadata": {},
          "output_type": "display_data"
        }
      ],
      "source": [
        "dendrogram(mergings,\n",
        "           labels=varieties,\n",
        "           leaf_rotation=90,\n",
        "           leaf_font_size=6,\n",
        "           )\n",
        "\n",
        "plt.show()"
      ]
    },
    {
      "cell_type": "markdown",
      "metadata": {
        "id": "pHNzB8bnwC07"
      },
      "source": [
        "Можна бачити, що в результаті ієрархічної кластеризації даних природно сталося розбиття на два кластери, позначених на рисунку різним кольором. При цьому вихідне число кластерів не задавали.\n"
      ]
    },
    {
      "cell_type": "markdown",
      "metadata": {
        "id": "gj1V7EZxwC07"
      },
      "source": [
        "<div class=\"alert alert-success alertsuccess\" style=\"margin-top: 20px\">\n",
        "<h2> Завдання  #4:</h2>\n",
        "\n",
        "<p>Виконайте ієрархічну кластеризацію по ознакам 'horsepower', 'city-mpg', 'highway-mpg'.</p>\n",
        "</div>\n"
      ]
    },
    {
      "cell_type": "code",
      "execution_count": 17,
      "metadata": {
        "id": "B2q_xnXAwC0_"
      },
      "outputs": [
        {
          "ename": "SyntaxError",
          "evalue": "expected argument value expression (1765782078.py, line 6)",
          "output_type": "error",
          "traceback": [
            "\u001b[1;36m  Cell \u001b[1;32mIn[17], line 6\u001b[1;36m\u001b[0m\n\u001b[1;33m    dendrogram(mergings, labels=)\u001b[0m\n\u001b[1;37m                         ^\u001b[0m\n\u001b[1;31mSyntaxError\u001b[0m\u001b[1;31m:\u001b[0m expected argument value expression\n"
          ]
        }
      ],
      "source": [
        "# Напишіть ваш код нижче та натисніть Shift+Enter для виконання\n",
        "cars_df  = df[['make', 'horsepower','city-mgp','highwat-mpg']]\n",
        "varieties = list(cars_df.pop('make'))\n",
        "samples = cars_df.values\n",
        "mergings = linkage(samples, method='complete')\n",
        "dendrogram(mergings, labels=varieties,\n",
        "           )"
      ]
    },
    {
      "cell_type": "markdown",
      "metadata": {
        "id": "oZRVsgOHwC0_"
      },
      "source": [
        "<details><summary>Натисніть тут, щоб побачити підказку</summary>\n",
        "\n",
        "```python\n",
        "cars_df = df[['make', 'horsepower', 'city-mpg', 'highway-mpg']]\n",
        "varieties = list(cars_df.pop('make'))\n",
        "samples = cars_df.values\n",
        "mergings = linkage(samples, method='complete')\n",
        "dendrogram(mergings,\n",
        "           labels=varieties,\n",
        "           leaf_rotation=90,\n",
        "           leaf_font_size=6,\n",
        "           )\n",
        "\n",
        "plt.show()\n",
        "```\n",
        "\n",
        "</details>\n"
      ]
    },
    {
      "cell_type": "markdown",
      "metadata": {
        "id": "JcaUyFwlwC0_"
      },
      "source": [
        "<h3>Порівняння методу k-середніх з ієрархічною кластеризацією</h3>\n",
        "<ul>    \n",
        "<li>Ієрархічна кластеризація гірше підходить для кластеризації великих обсягів даних у порівнянні з методом k-середніх. Це пов'язано з тим, що часова складність алгоритму лінійна для методу k-середніх (O(n)) і квадратична для методу ієрархічної кластеризації (O(n^2))</li>\n",
        "<li>У кластеризації за допомогою методу k-середніх алгоритм починає побудову з довільного вибору початкових точок, тому результати, що генеруються при багаторазовому запуску алгоритму, можуть відрізнятися. У той самий час у разі ієрархічної кластеризації результати відтворюються.</li>\n",
        "<li>З центроїдної геометрії побудови методу k-середніх випливає, що метод добре працює, коли форма кластерів є гіперсферичною (наприклад, коло у 2D або сфера у 3D).</li>\n",
        "<li>Метод k-середніх чутливіший до зашумлених даних, ніж ієрархічний метод.</li>\n",
        "</ul>\n",
        "\n"
      ]
    },
    {
      "cell_type": "markdown",
      "metadata": {
        "id": "wgk0ychuwC1A"
      },
      "source": [
        "<a name=\"ref2\"></a>\n",
        "## <h2>Задача кластеризації. Підбір параметрів моделі</h2>\n",
        "\n",
        "<p>Визначимо кількість кластерів для методу k-середніх, доречну для наших даних. Скористаємось методом \"ліктя\" (elbow method). Для цього ініціалізуємо алгоритм k середніх кількістю кластерів від 1 до 10 і для кожної моделі обрахуємо суму квадратів похибок (евклідових відстаней точок кластерів від відповідних центрів):</p>"
      ]
    },
    {
      "cell_type": "code",
      "execution_count": null,
      "metadata": {
        "id": "M2CK74fewC1A"
      },
      "outputs": [],
      "source": [
        "kmeans_kwargs = {\n",
        "    'init': 'random',\n",
        "    'n_init': 10,\n",
        "    'max_iter': 300,\n",
        "    'random_state': 42,\n",
        "}\n",
        "\n",
        "sse = []\n",
        "max_kernels = 10\n",
        "for k in range(1, max_kernels + 1):\n",
        "    kmeans = KMeans(n_clusters=k, **kmeans_kwargs)\n",
        "    kmeans.fit(features)\n",
        "    sse.append(kmeans.inertia_)"
      ]
    },
    {
      "cell_type": "markdown",
      "metadata": {
        "id": "662vCNymwC1A"
      },
      "source": [
        " Отримані сумарні похибки візуалізуємо на графіку:\n"
      ]
    },
    {
      "cell_type": "code",
      "execution_count": null,
      "metadata": {
        "id": "6jEzLnKQwC1A"
      },
      "outputs": [],
      "source": [
        "plt.plot(range(1, max_kernels + 1), sse)\n",
        "plt.xticks(range(1, max_kernels + 1))\n",
        "plt.xlabel('Number of Clusters')\n",
        "plt.ylabel('SSE')\n",
        "plt.grid(linestyle='--')\n",
        "plt.show()"
      ]
    },
    {
      "cell_type": "markdown",
      "metadata": {
        "id": "zaJRCcc4wC1B"
      },
      "source": [
        "З графіку бачимо, що \"лікоть\" для значення кількості кластерів 3 або 4.\n",
        "\n",
        "Додатково розрахуємо коефіцієнти силуетів (silhouette coefficients) для визначення кращої кількості кластерів:\n"
      ]
    },
    {
      "cell_type": "code",
      "execution_count": null,
      "metadata": {
        "id": "rtI43In-wC1B"
      },
      "outputs": [],
      "source": [
        "silhouette_coefficients = []\n",
        "\n",
        "for k in range(2, max_kernels + 1):\n",
        "    kmeans = KMeans(n_clusters=k, **kmeans_kwargs)\n",
        "    kmeans.fit(features)\n",
        "    score = silhouette_score(features, kmeans.labels_)\n",
        "    silhouette_coefficients.append(score)"
      ]
    },
    {
      "cell_type": "markdown",
      "metadata": {
        "id": "NQabYeTewC1B"
      },
      "source": [
        "Візуалізуємо значення коефіцієнтів для різної кількості центрів:\n"
      ]
    },
    {
      "cell_type": "code",
      "execution_count": null,
      "metadata": {
        "id": "wXTHGd5pwC1B"
      },
      "outputs": [],
      "source": [
        "plt.plot(range(2, max_kernels + 1), silhouette_coefficients)\n",
        "plt.xticks(range(2, max_kernels + 1))\n",
        "plt.xlabel('Number of Clusters')\n",
        "plt.ylabel('Silhouette Coefficient')\n",
        "plt.grid(linestyle='--')\n",
        "plt.show()"
      ]
    },
    {
      "cell_type": "markdown",
      "metadata": {
        "id": "R62GHlLrwC1C"
      },
      "source": [
        "Виходячи з результатів застосування методу \"ліктя\" та обрахування коефіцієнтів силуетів, оберемо  кількість кластерів рівною 4:\n"
      ]
    },
    {
      "cell_type": "code",
      "execution_count": null,
      "metadata": {
        "id": "4ids15f6wC1C"
      },
      "outputs": [],
      "source": [
        "kmeans = KMeans(\n",
        "    init='random',\n",
        "    n_clusters=4,\n",
        "    n_init=10,\n",
        "    max_iter=300,\n",
        "    random_state=42\n",
        ")\n",
        "\n",
        "kmeans.fit(features)"
      ]
    },
    {
      "cell_type": "markdown",
      "metadata": {
        "id": "q3wxCO3twC1C"
      },
      "source": [
        "<a name=\"ref3\"></a>\n",
        "## <h2>Задача класифікації</h2>\n",
        "\n",
        "<p>Класифікація використовується у випадках, коли потрібно віднеси кожен об'єкт до однієї з груп, при цьому для навчання моделі ми маємо набір даних з проставленими мітками груп і кількість груп відома.</p>"
      ]
    },
    {
      "cell_type": "markdown",
      "metadata": {
        "id": "Kl8dPL6DwC1D"
      },
      "source": [
        "<p>Виділимо потрібні ознаки: 'price', 'make', 'body-style', 'horsepower', 'city-mpg'.</p>\n",
        "<p>Класифікувати дані будемо по типу кузова ('body-style').</p>"
      ]
    },
    {
      "cell_type": "markdown",
      "metadata": {
        "id": "MYGxNhRDwC1D"
      },
      "source": [
        " Кодуємо категоріальні значення для всіх якісних ознак крім тої, по якій проводимо класифікацію:\n"
      ]
    },
    {
      "cell_type": "code",
      "execution_count": null,
      "metadata": {
        "id": "_QKJMdK7wC1E"
      },
      "outputs": [],
      "source": [
        "all_features=pd.get_dummies(df[['price', 'make', 'horsepower', 'city-mpg']])\n"
      ]
    },
    {
      "cell_type": "code",
      "execution_count": null,
      "metadata": {
        "id": "GpvjvqpPwC1G"
      },
      "outputs": [],
      "source": [
        "all_features[['body-style']] = df[['body-style']]\n",
        "all_features"
      ]
    },
    {
      "cell_type": "markdown",
      "metadata": {
        "id": "9oYdweg3wC1H"
      },
      "source": [
        " Розділимо увесь датасет на навчальну і тестову вибірки за допомогою функції <code>train_test_split()</code>:\n"
      ]
    },
    {
      "cell_type": "code",
      "execution_count": null,
      "metadata": {
        "id": "tXwEEsDIwC1H"
      },
      "outputs": [],
      "source": [
        "df_train, df_test = train_test_split(\n",
        "    all_features,\n",
        "    test_size=0.2,\n",
        "    random_state=1\n",
        ")\n",
        "df_train.head()"
      ]
    },
    {
      "cell_type": "code",
      "execution_count": null,
      "metadata": {
        "id": "GxLMJ1HDwC1I"
      },
      "outputs": [],
      "source": [
        "df_train.shape, df_test.shape"
      ]
    },
    {
      "cell_type": "markdown",
      "metadata": {
        "id": "TRUAVCC3wC1I"
      },
      "source": [
        "<p>Розмістимо цільові дані - тип кузова ('body-style') -  в окремому датафреймі:</p>"
      ]
    },
    {
      "cell_type": "code",
      "execution_count": null,
      "metadata": {
        "id": "v5sQgfLGwC1J"
      },
      "outputs": [],
      "source": [
        "x_train = df_train.drop(columns='body-style')\n",
        "y_train = df_train['body-style']\n",
        "\n",
        "x_test = df_test.drop(columns='body-style')\n",
        "y_test = df_test['body-style']"
      ]
    },
    {
      "cell_type": "markdown",
      "metadata": {
        "id": "wCFzH6hSwC1J"
      },
      "source": [
        "<h3>Навчання та тестування моделей:</h3>\n",
        "\n",
        "Для навчання були обрані наступні методи:\n",
        "\n",
        "- k-nearest neighbors;\n",
        "- Support vector machines;\n",
        "- Decision Tree;\n",
        "- Random Forest;\n",
        "- Extra Trees;\n",
        "- AdaBoost;\n",
        "- Gradient Boosting."
      ]
    },
    {
      "cell_type": "code",
      "execution_count": null,
      "metadata": {
        "id": "zEZp9CZowC1J"
      },
      "outputs": [],
      "source": [
        "#from sklearn.metrics import mean_squared_error, r2_score, classification_report, confusion_matrix\n",
        "#from sklearn.model_selection import cross_val_score, KFold\n",
        "#from sklearn.neighbors import KNeighborsClassifier\n",
        "#from sklearn.svm import SVC\n",
        "#from sklearn import tree\n",
        "#from sklearn.tree import DecisionTreeClassifier\n",
        "#from sklearn.ensemble import RandomForestClassifier\n",
        "#from sklearn.ensemble import ExtraTreesClassifier\n",
        "#from sklearn.ensemble import AdaBoostClassifier\n",
        "#from sklearn.ensemble import GradientBoostingClassifier"
      ]
    },
    {
      "cell_type": "markdown",
      "metadata": {
        "id": "SFZxnkMywC1J"
      },
      "source": [
        " <h3>k-nearest neighbors</h3>\n"
      ]
    },
    {
      "cell_type": "markdown",
      "metadata": {
        "id": "PmgRsR17wC1K"
      },
      "source": [
        "У KNN-моделі потрібно вказати параметр n_neighbors - число точок, яке дивитися класифікатор, щоб визначити, якого класу належить нова точка.\n"
      ]
    },
    {
      "cell_type": "code",
      "execution_count": null,
      "metadata": {
        "id": "uIwTKX1bwC1K",
        "scrolled": false
      },
      "outputs": [],
      "source": [
        "KNN_model = KNeighborsClassifier(n_neighbors=5)\n",
        "KNN_model.fit(x_train, y_train)"
      ]
    },
    {
      "cell_type": "markdown",
      "metadata": {
        "id": "FnvVNGbowC1K"
      },
      "source": [
        "Оцінка точності – найпростіший варіант оцінки роботи класифікатора"
      ]
    },
    {
      "cell_type": "code",
      "execution_count": null,
      "metadata": {
        "id": "Kp99aeK6wC1K",
        "scrolled": false
      },
      "outputs": [],
      "source": [
        "print('mean accuracy = ', KNN_model.score(x_test, y_test))"
      ]
    },
    {
      "cell_type": "markdown",
      "metadata": {
        "id": "RP1-Cx2GwC1L"
      },
      "source": [
        "Але матриця невідповідностей та звіт про класифікацію дадуть більше інформації\n"
      ]
    },
    {
      "cell_type": "code",
      "execution_count": null,
      "metadata": {
        "id": "k42ayEQMwC1M",
        "scrolled": true
      },
      "outputs": [],
      "source": [
        "print(classification_report(y_test, KNN_model.predict(x_test)))\n",
        "\n",
        "print(confusion_matrix(y_test, KNN_model.predict(x_test)))"
      ]
    },
    {
      "cell_type": "markdown",
      "metadata": {
        "id": "vh-FSw3TwC1M"
      },
      "source": [
        "Відобразимо матрицю невідповідностей на візуалізації\n"
      ]
    },
    {
      "cell_type": "code",
      "execution_count": null,
      "metadata": {
        "id": "SL7rHH9OwC1M",
        "scrolled": true
      },
      "outputs": [],
      "source": [
        "def show_confusion_matrix(matrix, title):\n",
        "    ax = sns.heatmap(matrix, annot=True, cmap='Greens')\n",
        "    ax.set_title(title)\n",
        "    ax.set_xlabel('\\nPredicted Values')\n",
        "    ax.set_ylabel('Actual Values ')\n",
        "    #ax.xaxis.set_ticklabels(['Negative', 'Positive'])  # тільки для 2 класів\n",
        "    #ax.yaxis.set_ticklabels(['False', 'True'])         # тільки для 2 класів\n",
        "\n",
        "    plt.show()"
      ]
    },
    {
      "cell_type": "code",
      "execution_count": null,
      "metadata": {
        "id": "HCCS_qv8wC1N",
        "scrolled": true
      },
      "outputs": [],
      "source": [
        "show_confusion_matrix(confusion_matrix(y_test, KNN_model.predict(x_test)), 'KNeighborsClassifier confusion matrix')"
      ]
    },
    {
      "cell_type": "markdown",
      "metadata": {
        "id": "FiOn5xbZwC1N"
      },
      "source": [
        " <h3>Support vector machines</h3>\n"
      ]
    },
    {
      "cell_type": "code",
      "execution_count": null,
      "metadata": {
        "id": "A95e7ZC_wC1N",
        "scrolled": true
      },
      "outputs": [],
      "source": [
        "SVC_model = SVC()\n",
        "SVC_model.fit(x_train, y_train)"
      ]
    },
    {
      "cell_type": "markdown",
      "metadata": {
        "id": "o6T6yRYLwC1O"
      },
      "source": [
        "Оцінка моделі"
      ]
    },
    {
      "cell_type": "code",
      "execution_count": null,
      "metadata": {
        "id": "_6gRue5RwC1O",
        "scrolled": false
      },
      "outputs": [],
      "source": [
        "print('mean accuracy = ', SVC_model.score(x_test, y_test))"
      ]
    },
    {
      "cell_type": "markdown",
      "metadata": {
        "id": "kplhzywuwC1O"
      },
      "source": [
        "Матриця невідповідностей та звіт про класифікацію\n"
      ]
    },
    {
      "cell_type": "code",
      "execution_count": null,
      "metadata": {
        "id": "Ru_MQC-JwC1O",
        "scrolled": false
      },
      "outputs": [],
      "source": [
        "print(classification_report(y_test, SVC_model.predict(x_test)))\n",
        "\n",
        "print(confusion_matrix(y_test, SVC_model.predict(x_test)))"
      ]
    },
    {
      "cell_type": "markdown",
      "metadata": {
        "id": "Z8ZmrGDHwC1P"
      },
      "source": [
        " <h3>Decision Tree Classifier</h3>\n"
      ]
    },
    {
      "cell_type": "markdown",
      "metadata": {
        "id": "lu2z_yPGwC1P"
      },
      "source": [
        " Валідація моделей виконуватиметься за допомогою крос-валідації.\n"
      ]
    },
    {
      "cell_type": "code",
      "execution_count": null,
      "metadata": {
        "id": "k9UdNT0cwC1P"
      },
      "outputs": [],
      "source": [
        "decision_tree = DecisionTreeClassifier(max_depth=3, random_state=1)\n",
        "tree_scores = cross_val_score(decision_tree, x_train, y_train, cv=5)\n",
        "tree_scores"
      ]
    },
    {
      "cell_type": "code",
      "execution_count": null,
      "metadata": {
        "id": "E6M0L4q3wC1P"
      },
      "outputs": [],
      "source": [
        "tree_scores.mean()"
      ]
    },
    {
      "cell_type": "markdown",
      "metadata": {
        "id": "Tl5K9EuhwC1Q"
      },
      "source": [
        " Навчаємо модель на всьому доступному навчальному наборі\n"
      ]
    },
    {
      "cell_type": "code",
      "execution_count": null,
      "metadata": {
        "id": "kGp14DU3wC1Q"
      },
      "outputs": [],
      "source": [
        "decision_tree.fit(x_train, y_train)"
      ]
    },
    {
      "cell_type": "markdown",
      "metadata": {
        "id": "qSvBvDehwC1R"
      },
      "source": [
        " Оцінка моделі на тестових даних:\n"
      ]
    },
    {
      "cell_type": "code",
      "execution_count": null,
      "metadata": {
        "id": "ri3fX2mwwC1R",
        "scrolled": true
      },
      "outputs": [],
      "source": [
        "decision_tree.score(x_test, y_test)"
      ]
    },
    {
      "cell_type": "markdown",
      "metadata": {
        "id": "LADWarh7wC1S"
      },
      "source": [
        "<div class=\"alert alert-success alertsuccess\" style=\"margin-top: 20px\">\n",
        "<h2> Завдання  #5:</h2>\n",
        "\n",
        "<p>Побудуйте Decision Tree Classifier тільки по кількісним ознакам 'price', 'horsepower', 'city-mpg' (для цього відберіть потрібні дані у \"x_train1\" та \"x_test1\").</p>\n",
        "</div>\n"
      ]
    },
    {
      "cell_type": "code",
      "execution_count": null,
      "metadata": {
        "id": "xFaQUPGEwC1S"
      },
      "outputs": [],
      "source": [
        "# Напишіть ваш код нижче та натисніть Shift+Enter для виконання\n"
      ]
    },
    {
      "cell_type": "markdown",
      "metadata": {
        "id": "Wo7A997BwC1S"
      },
      "source": [
        "<details><summary>Натисніть тут, щоб побачити підказку</summary>\n",
        "\n",
        "```python\n",
        "x_train1 = df_train[['price', 'horsepower', 'city-mpg']]\n",
        "x_test1 = df_test[['price', 'horsepower', 'city-mpg']]\n",
        "\n",
        "decision_tree1 = DecisionTreeClassifier(max_depth=3, random_state=1)\n",
        "decision_tree1.fit(x_train1, y_train)\n",
        "\n",
        "decision_tree1.score(x_test1, y_test)\n",
        "```\n",
        "\n",
        "</details>\n"
      ]
    },
    {
      "cell_type": "markdown",
      "metadata": {
        "id": "jyeXH-Y3wC1T"
      },
      "source": [
        "Візуалізуємо дерево:\n"
      ]
    },
    {
      "cell_type": "code",
      "execution_count": null,
      "metadata": {
        "id": "LIBjjlBkwC1T"
      },
      "outputs": [],
      "source": [
        "plt.figure(figsize=(25,20))\n",
        "_ = tree.plot_tree(decision_tree1,\n",
        "                   feature_names=x_train1.columns,\n",
        "                   class_names=y_train,\n",
        "                   filled=True)"
      ]
    },
    {
      "cell_type": "markdown",
      "metadata": {
        "id": "jeU5uNhfwC1T"
      },
      "source": [
        " <h3>Random Forest Classifier</h3>\n"
      ]
    },
    {
      "cell_type": "code",
      "execution_count": null,
      "metadata": {
        "id": "NTWeqA4iwC1U"
      },
      "outputs": [],
      "source": [
        "randomforest = RandomForestClassifier(max_depth=5)\n",
        "random_scores = cross_val_score(randomforest, x_train, y_train, cv=5)\n",
        "random_scores"
      ]
    },
    {
      "cell_type": "code",
      "execution_count": null,
      "metadata": {
        "id": "k0zSnDgPwC1U"
      },
      "outputs": [],
      "source": [
        "random_scores.mean()"
      ]
    },
    {
      "cell_type": "markdown",
      "metadata": {
        "id": "CvBVpm6uwC1V"
      },
      "source": [
        " Навчаємо модель на всьому доступному навчальному наборі\n"
      ]
    },
    {
      "cell_type": "code",
      "execution_count": null,
      "metadata": {
        "id": "5FNqNjnNwC1V"
      },
      "outputs": [],
      "source": [
        "randomforest.fit(x_train, y_train)"
      ]
    },
    {
      "cell_type": "markdown",
      "metadata": {
        "id": "lbfj13bSwC1V"
      },
      "source": [
        " Оцінка моделі на тестових даних:\n"
      ]
    },
    {
      "cell_type": "code",
      "execution_count": null,
      "metadata": {
        "id": "QjEoQrZiwC1W"
      },
      "outputs": [],
      "source": [
        "randomforest.score(x_test, y_test)"
      ]
    },
    {
      "cell_type": "markdown",
      "metadata": {
        "id": "RldC9D7mwC1W"
      },
      "source": [
        " <h3>Extra Trees Classifier</h3>\n"
      ]
    },
    {
      "cell_type": "code",
      "execution_count": null,
      "metadata": {
        "id": "Ccg_fbvawC1W"
      },
      "outputs": [],
      "source": [
        "extratrees = ExtraTreesClassifier(max_depth=5)\n",
        "extra_scores = cross_val_score(extratrees, x_train, y_train, cv=5)\n",
        "extra_scores"
      ]
    },
    {
      "cell_type": "code",
      "execution_count": null,
      "metadata": {
        "id": "hg9pjQG2wC1X"
      },
      "outputs": [],
      "source": [
        "extra_scores.mean()"
      ]
    },
    {
      "cell_type": "markdown",
      "metadata": {
        "id": "-JFmL5xFwC1X"
      },
      "source": [
        " Навчаємо модель на всьому доступному навчальному наборі\n"
      ]
    },
    {
      "cell_type": "code",
      "execution_count": null,
      "metadata": {
        "id": "2ui8s44VwC1Y"
      },
      "outputs": [],
      "source": [
        "extratrees.fit(x_train, y_train)"
      ]
    },
    {
      "cell_type": "markdown",
      "metadata": {
        "id": "eKrq1G8dwC1Y"
      },
      "source": [
        " Оцінка моделі на тестових даних:\n"
      ]
    },
    {
      "cell_type": "code",
      "execution_count": null,
      "metadata": {
        "id": "7SCFzJp9wC1Y"
      },
      "outputs": [],
      "source": [
        "extratrees.score(x_test, y_test)"
      ]
    },
    {
      "cell_type": "markdown",
      "metadata": {
        "id": "nY7uAnhvwC1Z"
      },
      "source": [
        " <h3>AdaBoost Classifier</h3>\n"
      ]
    },
    {
      "cell_type": "code",
      "execution_count": null,
      "metadata": {
        "id": "62RVVAdjwC1Z"
      },
      "outputs": [],
      "source": [
        "adaboost = AdaBoostClassifier(learning_rate=0.3)\n",
        "adaboost_scores = cross_val_score(adaboost, x_train, y_train, cv=5)\n",
        "adaboost_scores"
      ]
    },
    {
      "cell_type": "code",
      "execution_count": null,
      "metadata": {
        "id": "RDWBoAwEwC1Z"
      },
      "outputs": [],
      "source": [
        "adaboost_scores.mean()"
      ]
    },
    {
      "cell_type": "markdown",
      "metadata": {
        "id": "0EFiDIAtwC1a"
      },
      "source": [
        " Навчаємо модель на всьому доступному навчальному наборі\n"
      ]
    },
    {
      "cell_type": "code",
      "execution_count": null,
      "metadata": {
        "id": "V20HWZK2wC1a"
      },
      "outputs": [],
      "source": [
        "adaboost.fit(x_train, y_train)"
      ]
    },
    {
      "cell_type": "markdown",
      "metadata": {
        "id": "pM-rWmvkwC1a"
      },
      "source": [
        " Оцінка моделі на тестових даних:\n"
      ]
    },
    {
      "cell_type": "code",
      "execution_count": null,
      "metadata": {
        "id": "tJwTDQo6wC1b"
      },
      "outputs": [],
      "source": [
        "adaboost.score(x_test, y_test)"
      ]
    },
    {
      "cell_type": "markdown",
      "metadata": {
        "id": "8-JJVUKIwC1b"
      },
      "source": [
        " <h3>Gradient Boosting Classifier</h3>\n"
      ]
    },
    {
      "cell_type": "code",
      "execution_count": null,
      "metadata": {
        "id": "tRB1uQA8wC1b"
      },
      "outputs": [],
      "source": [
        "gradboost = GradientBoostingClassifier(learning_rate=0.05)\n",
        "gradboost_scores = cross_val_score(gradboost, x_train, y_train, cv=5)\n",
        "gradboost_scores"
      ]
    },
    {
      "cell_type": "code",
      "execution_count": null,
      "metadata": {
        "id": "rk0rq15DwC1b"
      },
      "outputs": [],
      "source": [
        "gradboost_scores.mean()"
      ]
    },
    {
      "cell_type": "markdown",
      "metadata": {
        "id": "Z_S7UZgmwC1b"
      },
      "source": [
        " Навчаємо модель на всьому доступному навчальному наборі\n"
      ]
    },
    {
      "cell_type": "code",
      "execution_count": null,
      "metadata": {
        "id": "bLPbC2H6wC1c"
      },
      "outputs": [],
      "source": [
        "gradboost.fit(x_train, y_train)"
      ]
    },
    {
      "cell_type": "markdown",
      "metadata": {
        "id": "PC4KVRDVwC1c"
      },
      "source": [
        " Оцінка моделі на тестових даних:\n"
      ]
    },
    {
      "cell_type": "code",
      "execution_count": null,
      "metadata": {
        "id": "_9BYmPM8wC1c"
      },
      "outputs": [],
      "source": [
        "gradboost.score(x_test, y_test)"
      ]
    },
    {
      "cell_type": "markdown",
      "metadata": {
        "id": "d0jLyKCUwC1c"
      },
      "source": [
        "<h3>Висновок:</h3>\n",
        "\n",
        "Найкраще на тестових даних себе показала модель Random Forest Classifier. Проте ефективність моделей можна покращити, ретельніше підготувавши дані та підібравши кращі гіперпараметри моделей.\n"
      ]
    },
    {
      "cell_type": "markdown",
      "metadata": {
        "id": "mrhYauxzwC1c"
      },
      "source": [
        "<a name=\"ref4\"></a>\n",
        "## <h2>Задача класифікації. Підбір параметрів моделі</h2>\n",
        "\n",
        "<p>Скористаємось методом \"ліктя\" для визначення оптимальної кількості сусідів методу k-nearest neighbors. Для цього ініціалізуємо алгоритм з параметром n_neighbors від 1 до 100 і для кожної моделі обрахуємо mean accuracy:</p>"
      ]
    },
    {
      "cell_type": "code",
      "execution_count": null,
      "metadata": {
        "id": "goCVz17pwC1d"
      },
      "outputs": [],
      "source": [
        "accur = []\n",
        "max_kernels = 100\n",
        "for k in range(1, max_kernels + 1):\n",
        "    KNN_model = KNeighborsClassifier(n_neighbors=k)\n",
        "    KNN_model.fit(x_train, y_train)\n",
        "    accur.append(KNN_model.score(x_test, y_test))"
      ]
    },
    {
      "cell_type": "markdown",
      "metadata": {
        "id": "c3A1zYEkwC1d"
      },
      "source": [
        " Отримані mean accuracy візуалізуємо на графіку:\n"
      ]
    },
    {
      "cell_type": "code",
      "execution_count": null,
      "metadata": {
        "id": "4b2lVFuJwC1d"
      },
      "outputs": [],
      "source": [
        "plt.figure(figsize=(10, 8))\n",
        "plt.plot(range(1, max_kernels + 1), accur)\n",
        "plt.xticks(range(0, max_kernels + 1,10))\n",
        "plt.xlabel('n_neighbors')\n",
        "plt.ylabel('mean accuracy')\n",
        "plt.grid(linestyle='--')\n",
        "plt.show()"
      ]
    },
    {
      "cell_type": "markdown",
      "metadata": {
        "id": "-bHEdtPrwC1d"
      },
      "source": [
        "З графіку бачимо, що найкраще значення n_neighbors знаходиться в межах від 10 до 25.\n"
      ]
    },
    {
      "cell_type": "markdown",
      "metadata": {
        "id": "YMp5sHYdwC1e"
      },
      "source": [
        "<p>Виконаємо підбір максимальної висоти дерева методу Decision Tree Classifier. Для цього ініціалізуємо алгоритм з параметром max_depth від 1 до 30 (для більших значень у нас недостатньо даних, отримаємо перенавчання) і для кожної моделі обрахуємо mean accuracy:</p>"
      ]
    },
    {
      "cell_type": "code",
      "execution_count": null,
      "metadata": {
        "id": "vmhFM6howC1e"
      },
      "outputs": [],
      "source": [
        "accur = []\n",
        "max_kernels = 30\n",
        "for k in range(1, max_kernels + 1):\n",
        "    decision_tree = DecisionTreeClassifier(max_depth=k, random_state=1)\n",
        "    decision_tree.fit(x_train, y_train)\n",
        "    accur.append(decision_tree.score(x_test, y_test))"
      ]
    },
    {
      "cell_type": "markdown",
      "metadata": {
        "id": "6EsOKBGXwC1e"
      },
      "source": [
        " Отримані mean accuracy візуалізуємо на графіку:\n"
      ]
    },
    {
      "cell_type": "code",
      "execution_count": null,
      "metadata": {
        "id": "zRqoGrE-wC1e"
      },
      "outputs": [],
      "source": [
        "plt.figure(figsize=(10, 8))\n",
        "plt.plot(range(1, max_kernels + 1), accur)\n",
        "plt.xticks(range(0, max_kernels + 1,5))\n",
        "plt.xlabel('max_depth')\n",
        "plt.ylabel('mean accuracy')\n",
        "plt.grid(linestyle='--')\n",
        "plt.show()"
      ]
    },
    {
      "cell_type": "markdown",
      "metadata": {
        "id": "ABQuccLEwC1f"
      },
      "source": [
        "З графіку бачимо, що зі збільшенням висоти дерева точність спочатку різко падає, а потім трохи зростає і стабілізується. 1 і 2 для одиночного дерева брати не варто. Для значень від 3 до 7 точність класифікації однакова 0.42, тому орієнтуючись на вартість можна обрати max_depth = 3. Стабілізація точності близько 0.5 спостерігається починаючи з max_depth = 17, візьмемо саме це значення, бо більша висота вже не покращить результат. Або можна додатково подивитись на інші показники точності класифікації.\n"
      ]
    },
    {
      "cell_type": "markdown",
      "metadata": {
        "id": "MkDvxovkwC1f"
      },
      "source": [
        "<div class=\"alert alert-success alertsuccess\" style=\"margin-top: 20px\">\n",
        "<h2> Завдання  #6:</h2>\n",
        "\n",
        "<p>Виконайте підбір максимальної висоти дерев для методу Random Forest.</p>\n",
        "</div>\n"
      ]
    },
    {
      "cell_type": "code",
      "execution_count": null,
      "metadata": {
        "id": "VxOrIcD4wC1f",
        "scrolled": false
      },
      "outputs": [],
      "source": [
        "# Напишіть ваш код нижче та натисніть Shift+Enter для виконання\n"
      ]
    },
    {
      "cell_type": "markdown",
      "metadata": {
        "id": "ysOKlQKewC1f"
      },
      "source": [
        "<details><summary>Натисніть тут, щоб побачити підказку</summary>\n",
        "\n",
        "```python\n",
        "accur = []\n",
        "max_kernels = 30\n",
        "for k in range(1, max_kernels + 1):\n",
        "    randomforest = RandomForestClassifier(max_depth=k, random_state=1)\n",
        "    randomforest.fit(x_train, y_train)\n",
        "    accur.append(randomforest.score(x_test, y_test))\n",
        "\n",
        "plt.figure(figsize=(10, 8))\n",
        "plt.plot(range(1, max_kernels + 1), accur)\n",
        "plt.xticks(range(0, max_kernels + 1,5))\n",
        "plt.xlabel('max_depth')\n",
        "plt.ylabel('mean accuracy')\n",
        "plt.grid(linestyle='--')\n",
        "plt.show()\n",
        "```\n",
        "\n",
        "</details>\n"
      ]
    },
    {
      "cell_type": "markdown",
      "metadata": {
        "id": "MlN4Ea_awC1g"
      },
      "source": [
        "<div class=\"alert alert-success alertsuccess\" style=\"margin-top: 20px\">\n",
        "<h2> Завдання  #7:</h2>\n",
        "\n",
        "<p>Виконайте підбір кількості дерев для методу Random Forest (параметр n_estimators, міняйте в межах 1-50).</p>\n",
        "</div>\n"
      ]
    },
    {
      "cell_type": "code",
      "execution_count": null,
      "metadata": {
        "id": "5VEhqCuywC1g"
      },
      "outputs": [],
      "source": [
        "# Напишіть ваш код нижче та натисніть Shift+Enter для виконання\n"
      ]
    },
    {
      "cell_type": "markdown",
      "metadata": {
        "id": "2r8nzn-awC1g"
      },
      "source": [
        "<details><summary>Натисніть тут, щоб побачити підказку</summary>\n",
        "\n",
        "```python\n",
        "accur = []\n",
        "max_kernels = 50\n",
        "for k in range(10, max_kernels + 10):\n",
        "    randomforest = RandomForestClassifier(n_estimators=k, random_state=1)\n",
        "    randomforest.fit(x_train, y_train)\n",
        "    accur.append(randomforest.score(x_test, y_test))\n",
        "\n",
        "plt.figure(figsize=(10, 8))\n",
        "plt.plot(range(1, max_kernels + 1), accur)\n",
        "plt.xticks(range(0, max_kernels + 1,10))\n",
        "plt.xlabel('n_estimators')\n",
        "plt.ylabel('mean accuracy')\n",
        "plt.grid(linestyle='--')\n",
        "plt.show()\n",
        "```\n",
        "\n",
        "</details>\n"
      ]
    }
  ],
  "metadata": {
    "colab": {
      "provenance": [],
      "toc_visible": true
    },
    "kernelspec": {
      "display_name": "Python 3",
      "language": "python",
      "name": "python3"
    },
    "language_info": {
      "codemirror_mode": {
        "name": "ipython",
        "version": 3
      },
      "file_extension": ".py",
      "mimetype": "text/x-python",
      "name": "python",
      "nbconvert_exporter": "python",
      "pygments_lexer": "ipython3",
      "version": "3.12.2"
    }
  },
  "nbformat": 4,
  "nbformat_minor": 0
}
