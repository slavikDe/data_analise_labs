{
  "cells": [
    {
      "cell_type": "markdown",
      "metadata": {
        "id": "JyTTtWyKwC0q"
      },
      "source": [
        "\n",
        "# Задачі кластеризації та класифікації\n"
      ]
    },
    {
      "cell_type": "markdown",
      "metadata": {
        "id": "a_vc5jcBwC0u"
      },
      "source": [
        "<h2>Мета</h2>\n",
        "\n",
        "Ознайомитись з різновидами моделей для задач кластеризації та класифікації, а також методами побудови та оцінки цих моделей. Після завершення цієї лабораторної роботи ви зможете:\n",
        "\n",
        "* Використовувати прості моделі для задач кластеризації та класифікації\n",
        "* Використовувати перехресну перевірку для оцінки якості моделі\n",
        "* Обирати оптимальну складність моделі для уникнення перенавчання\n",
        "* Вдосконалювати моделі за допомогою підбору параметрів\n"
      ]
    },
    {
      "cell_type": "markdown",
      "metadata": {
        "id": "MAd_RLCJwC1g"
      },
      "source": [
        "<div class=\"alert alert-danger alertdanger\" style=\"margin-top: 20px\">\n",
        "\n",
        "# <h1 id=\"task\">Завдання, що оцінюються </h1>\n",
        "\n",
        "</div>\n"
      ]
    },
    {
      "cell_type": "markdown",
      "metadata": {
        "id": "FOOeT8IAwC1h"
      },
      "source": [
        "1. Скачайте дані із файлу <a href=\"https://drive.google.com/file/d/1wSj5SKRPKOjNPP2cyqaNpxRCinKEmJkO/view?usp=drive_link\" target=\"_blank\">'clean_data2.csv'</a> (Data2.csv з виправленими помилками та заповненими пропусками). Виконайте кластеризацію по ВВП на душу населення та щільності населення.\n",
        "2. Використайте метод ліктя для підбору оптимальної кількості кластерів.\n",
        "3. Визначіть, який регіон домінує в кожному з кластерів.\n",
        "4. Побудуйте кілька (3-5) моделей класифікації, що визначають регіон, до якого належить країна, по ознаках 'GDP per capita', 'Population', 'CO2 emission', 'Area'. Оцініть точність класифікації (використайте 20% загального набору в якості тестових даних).\n",
        "5. Для однієї з моделей виконайте підбір параметра. Обгрунтуйте ваш вибір."
      ]
    },
    {
      "cell_type": "markdown",
      "metadata": {
        "id": "U3xHJsX0wC1h"
      },
      "source": [
        "<a name=\"task1\"></a>\n",
        "<div class=\"alert alert-danger alertdanger\" style=\"margin-top: 20px\">\n",
        "\n",
        "## <h2 id=\"task1\">Завдання  #1: </h2>\n",
        "\n",
        "<p>Виконайте кластеризацію по ВВП на душу населення та щільності населення. </p>\n",
        "</div>\n"
      ]
    },
    {
      "cell_type": "markdown",
      "metadata": {
        "id": "KB-A1YgEwC1h"
      },
      "source": [
        "Зчитую дані з файлу у датафрейм\n"
      ]
    },
    {
      "cell_type": "code",
      "execution_count": null,
      "metadata": {
        "scrolled": true,
        "id": "vtIlUI4JwC1i"
      },
      "outputs": [],
      "source": [
        "# Напишіть ваш код нижче та натисніть Shift+Enter для виконання\n"
      ]
    },
    {
      "cell_type": "markdown",
      "metadata": {
        "scrolled": true,
        "id": "8zIYu-CVwC1i"
      },
      "source": [
        "Виділяю параметри для кластеризації"
      ]
    },
    {
      "cell_type": "code",
      "execution_count": null,
      "metadata": {
        "scrolled": true,
        "id": "HbK3gvnbwC1i"
      },
      "outputs": [],
      "source": []
    },
    {
      "cell_type": "markdown",
      "metadata": {
        "scrolled": true,
        "id": "CCyPGZHkwC1i"
      },
      "source": [
        "Будую модель методом k середніх з кількістю кластерів 5"
      ]
    },
    {
      "cell_type": "code",
      "execution_count": null,
      "metadata": {
        "scrolled": true,
        "id": "bgV8WsoWwC1i"
      },
      "outputs": [],
      "source": []
    },
    {
      "cell_type": "markdown",
      "metadata": {
        "id": "9GQJazAswC1j"
      },
      "source": [
        "<p>Отримані центри кластерів:</p>\n"
      ]
    },
    {
      "cell_type": "code",
      "execution_count": null,
      "metadata": {
        "scrolled": true,
        "id": "aaE6CywgwC1j"
      },
      "outputs": [],
      "source": []
    },
    {
      "cell_type": "markdown",
      "metadata": {
        "id": "BrogrxzGwC1j"
      },
      "source": [
        "<p>Масив із номерами кластерів для кожного рядка даних:</p>\n"
      ]
    },
    {
      "cell_type": "code",
      "execution_count": null,
      "metadata": {
        "scrolled": false,
        "id": "CIaNa-3XwC1j"
      },
      "outputs": [],
      "source": []
    },
    {
      "cell_type": "markdown",
      "metadata": {
        "id": "sLgOr2l4wC1j"
      },
      "source": [
        "<p>Візуалізую отримані кластери:</p>\n"
      ]
    },
    {
      "cell_type": "code",
      "execution_count": null,
      "metadata": {
        "scrolled": true,
        "id": "RxAHE0WTwC1k"
      },
      "outputs": [],
      "source": []
    },
    {
      "cell_type": "markdown",
      "metadata": {
        "id": "j64lf4NYwC1k"
      },
      "source": [
        "<a name=\"task2\"></a>\n",
        "<div class=\"alert alert-danger alertdanger\" style=\"margin-top: 20px\">\n",
        "\n",
        "## <h2 id=\"task2\">Завдання  #2: </h2>\n",
        "\n",
        "<p>Використайте метод ліктя для підбору оптимальної кількості кластерів.</p>\n",
        "</div>\n"
      ]
    },
    {
      "cell_type": "markdown",
      "metadata": {
        "scrolled": true,
        "id": "ajMfM5HNwC1k"
      },
      "source": [
        "Визначаю оптимальну кількість кластерів. Скористаюсь методом \"ліктя\". Для цього ініціалізую алгоритм k середніх кількістю кластерів від 1 до 10 і для кожної моделі рахую суму квадратів похибок (евклідових відстаней точок кластерів від відповідних центрів):"
      ]
    },
    {
      "cell_type": "code",
      "execution_count": null,
      "metadata": {
        "scrolled": true,
        "id": "1VgscO99wC1k"
      },
      "outputs": [],
      "source": []
    },
    {
      "cell_type": "markdown",
      "metadata": {
        "id": "yS9FROWTwC1l"
      },
      "source": [
        "<p>Візуалізую отримані результати:</p>\n"
      ]
    },
    {
      "cell_type": "code",
      "execution_count": null,
      "metadata": {
        "scrolled": true,
        "id": "sA_QMgdwwC1l"
      },
      "outputs": [],
      "source": []
    },
    {
      "cell_type": "markdown",
      "metadata": {
        "id": "SUSvykwwwC1l"
      },
      "source": [
        "<p>Оптимальна кількість кластерів дорівнює ...</p>\n",
        "<p>Візуалізую для оптимальної кількості кластерів:</p>"
      ]
    },
    {
      "cell_type": "code",
      "execution_count": null,
      "metadata": {
        "scrolled": true,
        "id": "Sin6cJMawC1l"
      },
      "outputs": [],
      "source": []
    },
    {
      "cell_type": "markdown",
      "metadata": {
        "id": "ktmOaHw1wC1m"
      },
      "source": [
        "<a name=\"task3\"></a>\n",
        "<div class=\"alert alert-danger alertdanger\" style=\"margin-top: 20px\">\n",
        "\n",
        "## <h2 id=\"task3\">Завдання  #3: </h2>\n",
        "\n",
        "<p>Визначіть, який регіон домінує в кожному з кластерів.</p>\n",
        "</div>\n"
      ]
    },
    {
      "cell_type": "markdown",
      "metadata": {
        "scrolled": true,
        "id": "56FQCBujwC1m"
      },
      "source": [
        "Додаю мітки кластерів в датафрейм"
      ]
    },
    {
      "cell_type": "code",
      "execution_count": null,
      "metadata": {
        "scrolled": true,
        "id": "sAsrQvjMwC1n"
      },
      "outputs": [],
      "source": []
    },
    {
      "cell_type": "markdown",
      "metadata": {
        "scrolled": false,
        "id": "mXX9iSuGwC1n"
      },
      "source": [
        "Визначаю домінуючий регіон для кожного кластера"
      ]
    },
    {
      "cell_type": "code",
      "execution_count": null,
      "metadata": {
        "scrolled": true,
        "id": "YM7ATLKawC1n"
      },
      "outputs": [],
      "source": []
    },
    {
      "cell_type": "markdown",
      "metadata": {
        "id": "5WuWOTmNwC1n"
      },
      "source": [
        "<a name=\"task4\"></a>\n",
        "<div class=\"alert alert-danger alertdanger\" style=\"margin-top: 20px\">\n",
        "\n",
        "## <h2 id=\"task4\">Завдання  #4: </h2>\n",
        "\n",
        "<p>Побудуйте кілька (3-5) моделей класифікації, що визначають регіон, до якого належить країна, по ознаках 'GDP per capita', 'Population', 'CO2 emission', 'Area'. Оцініть точність класифікації (використайте 20% загального набору в якості тестових даних).</p>\n",
        "</div>\n"
      ]
    },
    {
      "cell_type": "markdown",
      "metadata": {
        "id": "8hX9uR1KwC1n"
      },
      "source": [
        " Обираю потрібні ознаки:\n"
      ]
    },
    {
      "cell_type": "code",
      "execution_count": null,
      "metadata": {
        "id": "wf1rza1vwC1o"
      },
      "outputs": [],
      "source": []
    },
    {
      "cell_type": "markdown",
      "metadata": {
        "id": "pwbv0tEywC1o"
      },
      "source": [
        " Розділяю датасет на навчальну і тестову вибірки за допомогою функції <code>train_test_split()</code>:\n"
      ]
    },
    {
      "cell_type": "code",
      "execution_count": null,
      "metadata": {
        "id": "zBIDJZrCwC1o"
      },
      "outputs": [],
      "source": []
    },
    {
      "cell_type": "markdown",
      "metadata": {
        "id": "6-y75JOJwC1o"
      },
      "source": [
        "<p>Розміщую цільові дані - Region -  в окремому датафреймі:</p>"
      ]
    },
    {
      "cell_type": "code",
      "execution_count": null,
      "metadata": {
        "id": "C0X6mRwAwC1p"
      },
      "outputs": [],
      "source": [
        "x_train = df_train[['GDP per capita', 'Population', 'CO2 emission', 'Area']]\n",
        "y_train = df_train[['Region']]\n",
        "\n",
        "x_test = df_test[['GDP per capita', 'Population', 'CO2 emission', 'Area']]\n",
        "y_test = df_test[['Region']]"
      ]
    },
    {
      "cell_type": "markdown",
      "metadata": {
        "id": "rRJcNCzWwC1p"
      },
      "source": [
        "<h3>Навчання та тестування моделей:</h3>\n",
        "\n",
        "Для навчання були обрані наступні методи:\n",
        "\n",
        "- метод 1;\n",
        "- метод 2;\n",
        "- метод 3;\n",
        "- метод 4;\n",
        "- метод 5."
      ]
    },
    {
      "cell_type": "markdown",
      "metadata": {
        "id": "maEz5QNewC1p"
      },
      "source": [
        " <h3>Метод 1</h3>\n"
      ]
    },
    {
      "cell_type": "markdown",
      "metadata": {
        "id": "UQIbdlk3wC1q"
      },
      "source": [
        "Будую модель\n"
      ]
    },
    {
      "cell_type": "code",
      "execution_count": null,
      "metadata": {
        "scrolled": false,
        "id": "56jPDhs1wC1q"
      },
      "outputs": [],
      "source": []
    },
    {
      "cell_type": "markdown",
      "metadata": {
        "id": "w1DBSTslwC1q"
      },
      "source": [
        "Оцінюю точність"
      ]
    },
    {
      "cell_type": "code",
      "execution_count": null,
      "metadata": {
        "scrolled": true,
        "id": "QzeiAvrWwC1r"
      },
      "outputs": [],
      "source": []
    },
    {
      "cell_type": "markdown",
      "metadata": {
        "id": "_LxSn6IYwC1r"
      },
      "source": [
        " <h3>Метод 2</h3>\n"
      ]
    },
    {
      "cell_type": "markdown",
      "metadata": {
        "id": "b6k4UMxhwC1r"
      },
      "source": [
        "Будую модель\n"
      ]
    },
    {
      "cell_type": "code",
      "execution_count": null,
      "metadata": {
        "id": "-sKSURePwC1s"
      },
      "outputs": [],
      "source": []
    },
    {
      "cell_type": "markdown",
      "metadata": {
        "id": "GnveHaI9wC1s"
      },
      "source": [
        "Оцінюю точність"
      ]
    },
    {
      "cell_type": "code",
      "execution_count": null,
      "metadata": {
        "scrolled": true,
        "id": "sNeSM-2YwC1s"
      },
      "outputs": [],
      "source": []
    },
    {
      "cell_type": "markdown",
      "metadata": {
        "id": "Vf0OhapXwC1s"
      },
      "source": [
        " <h3>Метод 3</h3>\n"
      ]
    },
    {
      "cell_type": "markdown",
      "metadata": {
        "id": "D8KG-0I_wC1s"
      },
      "source": [
        "Будую модель\n"
      ]
    },
    {
      "cell_type": "code",
      "execution_count": null,
      "metadata": {
        "id": "UAaMc5KvwC1t"
      },
      "outputs": [],
      "source": []
    },
    {
      "cell_type": "markdown",
      "metadata": {
        "id": "IZikNeh7wC1t"
      },
      "source": [
        "Оцінюю точність"
      ]
    },
    {
      "cell_type": "code",
      "execution_count": null,
      "metadata": {
        "scrolled": true,
        "id": "Hs9rZ0r4wC1t"
      },
      "outputs": [],
      "source": []
    },
    {
      "cell_type": "markdown",
      "metadata": {
        "id": "6QPZIfvGwC1t"
      },
      "source": [
        " <h3>Метод 4</h3>\n"
      ]
    },
    {
      "cell_type": "markdown",
      "metadata": {
        "id": "O9rrFLzywC1t"
      },
      "source": [
        "Будую модель\n"
      ]
    },
    {
      "cell_type": "code",
      "execution_count": null,
      "metadata": {
        "id": "-ANwn13AwC1u"
      },
      "outputs": [],
      "source": []
    },
    {
      "cell_type": "markdown",
      "metadata": {
        "id": "G48op8kawC1u"
      },
      "source": [
        "Оцінюю точність"
      ]
    },
    {
      "cell_type": "code",
      "execution_count": null,
      "metadata": {
        "scrolled": true,
        "id": "MI6sD8lGwC1u"
      },
      "outputs": [],
      "source": []
    },
    {
      "cell_type": "markdown",
      "metadata": {
        "id": "0tw_V6h8wC1u"
      },
      "source": [
        " <h3>Метод 5</h3>\n"
      ]
    },
    {
      "cell_type": "markdown",
      "metadata": {
        "id": "1Y1r2HPfwC1u"
      },
      "source": [
        "Будую модель\n"
      ]
    },
    {
      "cell_type": "code",
      "execution_count": null,
      "metadata": {
        "id": "5ygP4XymwC1v"
      },
      "outputs": [],
      "source": []
    },
    {
      "cell_type": "markdown",
      "metadata": {
        "id": "tLx_SH2iwC1v"
      },
      "source": [
        "Оцінюю точність"
      ]
    },
    {
      "cell_type": "code",
      "execution_count": null,
      "metadata": {
        "scrolled": true,
        "id": "yn-LMk88wC1v"
      },
      "outputs": [],
      "source": []
    },
    {
      "cell_type": "markdown",
      "metadata": {
        "id": "An7G63rkwC1w"
      },
      "source": [
        "<a name=\"task5\"></a>\n",
        "<div class=\"alert alert-danger alertdanger\" style=\"margin-top: 20px\">\n",
        "\n",
        "## <h2 id=\"task5\">Завдання  #5: </h2>\n",
        "\n",
        "<p>Для однієї з моделей виконайте підбір параметра. Обгрунтуйте ваш вибір.</p>\n",
        "</div>\n"
      ]
    },
    {
      "cell_type": "markdown",
      "metadata": {
        "id": "_wH1ksbAwC1w"
      },
      "source": [
        "<p>Скористаюсь методом \"ліктя\" для визначення параметра ... методу ... </p>\n",
        "<p>Для цього ініціалізую алгоритм з параметром від ... до ... і для кожної моделі порахую ...:</p>"
      ]
    },
    {
      "cell_type": "code",
      "execution_count": null,
      "metadata": {
        "id": "47ToJYnrwC1x"
      },
      "outputs": [],
      "source": []
    },
    {
      "cell_type": "markdown",
      "metadata": {
        "id": "7FvTD6OGwC1x"
      },
      "source": [
        " Отримані показники якості візуалізую на графіку:\n"
      ]
    },
    {
      "cell_type": "code",
      "execution_count": null,
      "metadata": {
        "id": "dyySA8L3wC1x"
      },
      "outputs": [],
      "source": []
    },
    {
      "cell_type": "markdown",
      "metadata": {
        "id": "egiLoY1swC1x"
      },
      "source": [
        "З графіку бачу, що найкраще значення параметра знаходиться в межах від ... до ... , тому що ...\n"
      ]
    },
    {
      "cell_type": "markdown",
      "metadata": {
        "id": "g9NSgLTDwC1y"
      },
      "source": [
        "<a name=\"task6\"></a>\n",
        "<div class=\"alert alert-danger alertdanger\" style=\"margin-top: 20px\">\n",
        "\n",
        "## <h2 id=\"task6\"> Додаткове завдання: </h2>\n",
        "\n",
        "<p>Використовуючи файл <a href=\"https://drive.google.com/file/d/1gxqzPQNlqrwrJI3zstMsvHQAbsdMPe-2/view?usp=drive_link\" target=\"_blank\">Data5.csv</a>:\n",
        "\n",
        "1. Визначити кластер країн з найкращим розвитком (кластеризувати по Ie, Iec, Is; для k-середніх використати 4 кластера). Побудувати центри кластерів.\n",
        "2. Провести кластеризацію по Сql, порахувати скільки країн потрапило в різні кластери, якщо порівнювати з п1.</p>\n",
        "</div>\n"
      ]
    },
    {
      "cell_type": "markdown",
      "metadata": {
        "id": "hq7e-5RhwC1y"
      },
      "source": [
        "Згідно з методологією вимірювання сталого розвитку країн, сталий розвиток оцінюється за допомогою відповідного індексу у просторі трьох вимірів: економічного (Іес), екологічного (Іе) і соціально-інституціонального (Is). Цей індекс є вектором, норма якого визначає рівень сталого розвитку, а його просторове положення в системі координат (Iec,Ie,Is) характеризує міру «гармонійності» цього розвитку."
      ]
    },
    {
      "cell_type": "markdown",
      "metadata": {
        "id": "kyxCdJnhwC1y"
      },
      "source": [
        "<details><summary>Натисніть тут, щоб побачити підказку</summary>\n",
        "\n",
        "```python\n",
        "# Зчитуємо заданий набір даних, зразу коригуючи\n",
        "df = pd.read_csv(\n",
        "    'Data5.csv', encoding='windows-1251', sep=';', decimal=','\n",
        ").rename(columns={'Unnamed: 0': 'Country'})\n",
        "\n",
        "df\n",
        "\n",
        "```\n",
        "\n",
        "</details>\n",
        "\n"
      ]
    },
    {
      "cell_type": "code",
      "execution_count": null,
      "metadata": {
        "id": "PPpO8QvIwC1z"
      },
      "outputs": [],
      "source": [
        "# Напишіть ваш код нижче та натисніть Shift+Enter для виконання\n"
      ]
    },
    {
      "cell_type": "markdown",
      "metadata": {
        "id": "tMTh4CLxwC1z"
      },
      "source": [
        "<h2>Виконав студент групи ІП-хх <br> Прізвище Ім'я</h2>\n"
      ]
    }
  ],
  "metadata": {
    "kernelspec": {
      "display_name": "Python 3",
      "language": "python",
      "name": "python3"
    },
    "language_info": {
      "codemirror_mode": {
        "name": "ipython",
        "version": 3
      },
      "file_extension": ".py",
      "mimetype": "text/x-python",
      "name": "python",
      "nbconvert_exporter": "python",
      "pygments_lexer": "ipython3",
      "version": "3.8.5"
    },
    "colab": {
      "provenance": [],
      "toc_visible": true
    }
  },
  "nbformat": 4,
  "nbformat_minor": 0
}